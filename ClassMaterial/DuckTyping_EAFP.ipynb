{
 "cells": [
  {
   "cell_type": "markdown",
   "metadata": {},
   "source": [
    "# Duck Typing\n",
    "\n",
    "In this concept it assumes if an object walks like a duck or quacks like a duck it's a duck. It means it does not care what type of object you are working with, we only care if an object can do what we have asked to do."
   ]
  },
  {
   "cell_type": "code",
   "execution_count": 6,
   "metadata": {},
   "outputs": [
    {
     "name": "stdout",
     "output_type": "stream",
     "text": [
      "I have windows operating system\n",
      "I have quad microprocessor\n",
      "\n",
      "I have android operating system\n",
      "I have duo microprocessor\n",
      "\n"
     ]
    }
   ],
   "source": [
    "class Laptop:\n",
    "    def operating_system(self):\n",
    "        print('I have windows operating system')\n",
    "        \n",
    "    def microprocessor(self):\n",
    "        print('I have quad microprocessor')\n",
    "        \n",
    "class Mobile:\n",
    "    def operating_system(self):\n",
    "        print('I have android operating system')\n",
    "        \n",
    "    def microprocessor(elf):\n",
    "        print('I have duo microprocessor')\n",
    "        \n",
    "def specification(gadget):\n",
    "    gadget.operating_system()\n",
    "    gadget.microprocessor()\n",
    "    \n",
    "    print()\n",
    "    \n",
    "\n",
    "lap=Laptop()\n",
    "specification(lap)\n",
    "\n",
    "mob=Mobile()\n",
    "specification(mob)"
   ]
  },
  {
   "cell_type": "markdown",
   "metadata": {},
   "source": [
    "here we can see object gadget in specification function does not care what type of object it is. It just cares if the passed object to it can perform those functions or not."
   ]
  },
  {
   "cell_type": "markdown",
   "metadata": {},
   "source": [
    "# EAFP (Easy for Ask Forgiveness than Permission)"
   ]
  },
  {
   "cell_type": "code",
   "execution_count": 9,
   "metadata": {},
   "outputs": [
    {
     "name": "stdout",
     "output_type": "stream",
     "text": [
      "I have windows operating system\n",
      "I have quad microprocessor\n",
      "I have webcam\n",
      "\n",
      "I have android operating system\n",
      "I have duo microprocessor\n"
     ]
    },
    {
     "ename": "AttributeError",
     "evalue": "'Mobile' object has no attribute 'camera'",
     "output_type": "error",
     "traceback": [
      "\u001b[0;31m---------------------------------------------------------------------------\u001b[0m",
      "\u001b[0;31mAttributeError\u001b[0m                            Traceback (most recent call last)",
      "\u001b[0;32m<ipython-input-9-49d4f2727f37>\u001b[0m in \u001b[0;36m<module>\u001b[0;34m()\u001b[0m\n\u001b[1;32m     28\u001b[0m \u001b[0;34m\u001b[0m\u001b[0m\n\u001b[1;32m     29\u001b[0m \u001b[0mmob\u001b[0m\u001b[0;34m=\u001b[0m\u001b[0mMobile\u001b[0m\u001b[0;34m(\u001b[0m\u001b[0;34m)\u001b[0m\u001b[0;34m\u001b[0m\u001b[0m\n\u001b[0;32m---> 30\u001b[0;31m \u001b[0mspecification\u001b[0m\u001b[0;34m(\u001b[0m\u001b[0mmob\u001b[0m\u001b[0;34m)\u001b[0m\u001b[0;34m\u001b[0m\u001b[0m\n\u001b[0m",
      "\u001b[0;32m<ipython-input-9-49d4f2727f37>\u001b[0m in \u001b[0;36mspecification\u001b[0;34m(gadget)\u001b[0m\n\u001b[1;32m     19\u001b[0m     \u001b[0mgadget\u001b[0m\u001b[0;34m.\u001b[0m\u001b[0moperating_system\u001b[0m\u001b[0;34m(\u001b[0m\u001b[0;34m)\u001b[0m\u001b[0;34m\u001b[0m\u001b[0m\n\u001b[1;32m     20\u001b[0m     \u001b[0mgadget\u001b[0m\u001b[0;34m.\u001b[0m\u001b[0mmicroprocessor\u001b[0m\u001b[0;34m(\u001b[0m\u001b[0;34m)\u001b[0m\u001b[0;34m\u001b[0m\u001b[0m\n\u001b[0;32m---> 21\u001b[0;31m     \u001b[0mgadget\u001b[0m\u001b[0;34m.\u001b[0m\u001b[0mcamera\u001b[0m\u001b[0;34m(\u001b[0m\u001b[0;34m)\u001b[0m\u001b[0;34m\u001b[0m\u001b[0m\n\u001b[0m\u001b[1;32m     22\u001b[0m \u001b[0;34m\u001b[0m\u001b[0m\n\u001b[1;32m     23\u001b[0m     \u001b[0mprint\u001b[0m\u001b[0;34m(\u001b[0m\u001b[0;34m)\u001b[0m\u001b[0;34m\u001b[0m\u001b[0m\n",
      "\u001b[0;31mAttributeError\u001b[0m: 'Mobile' object has no attribute 'camera'"
     ]
    }
   ],
   "source": [
    "class Laptop:\n",
    "    def operating_system(self):\n",
    "        print('I have windows operating system')\n",
    "        \n",
    "    def microprocessor(self):\n",
    "        print('I have quad microprocessor')\n",
    "        \n",
    "    def camera(self):\n",
    "        print('I have webcam')\n",
    "        \n",
    "class Mobile:\n",
    "    def operating_system(self):\n",
    "        print('I have android operating system')\n",
    "        \n",
    "    def microprocessor(elf):\n",
    "        print('I have duo microprocessor')\n",
    "        \n",
    "def specification(gadget):\n",
    "    gadget.operating_system()\n",
    "    gadget.microprocessor()\n",
    "    gadget.camera()\n",
    "    \n",
    "    print()\n",
    "    \n",
    "\n",
    "lap=Laptop()\n",
    "specification(lap)\n",
    "\n",
    "mob=Mobile()\n",
    "specification(mob)"
   ]
  },
  {
   "cell_type": "code",
   "execution_count": 9,
   "metadata": {},
   "outputs": [
    {
     "name": "stdout",
     "output_type": "stream",
     "text": [
      "I have windows operating system\n",
      "I have quad microprocessor\n",
      "I have webcam\n",
      "\n",
      "I have android operating system\n",
      "I have duo microprocessor\n",
      "<__main__.Mobile object at 0x7f68f832c780> does not have camera\n",
      "\n"
     ]
    }
   ],
   "source": [
    "# this is non-pyhtonic way LBYL(look before you leave)\n",
    "class Laptop:\n",
    "    def operating_system(self):\n",
    "        print('I have windows operating system')\n",
    "        \n",
    "    def microprocessor(self):\n",
    "        print('I have quad microprocessor')\n",
    "        \n",
    "    def camera(self):\n",
    "        print('I have webcam')\n",
    "        \n",
    "class Mobile:\n",
    "    def operating_system(self):\n",
    "        print('I have android operating system')\n",
    "        \n",
    "    def microprocessor(elf):\n",
    "        print('I have duo microprocessor')\n",
    "        \n",
    "def specification(gadget):\n",
    "    if hasattr(gadget,'operating_system'):\n",
    "        if callable(gadget.operating_system):\n",
    "            gadget.operating_system()\n",
    "    if hasattr(gadget,'microprocessor'):\n",
    "        if callable(gadget.microprocessor):\n",
    "            gadget.microprocessor()\n",
    "    if hasattr(gadget,'camera'):\n",
    "        if callable(gadget.camera):\n",
    "            gadget.camera()\n",
    "    else:\n",
    "        print('{} does not have camera'.format(gadget))\n",
    "    \n",
    "    print()\n",
    "    \n",
    "\n",
    "lap=Laptop()\n",
    "specification(lap)\n",
    "\n",
    "mob=Mobile()\n",
    "specification(mob)"
   ]
  },
  {
   "cell_type": "code",
   "execution_count": 2,
   "metadata": {},
   "outputs": [
    {
     "name": "stdout",
     "output_type": "stream",
     "text": [
      "I have windows operating system\n",
      "I have quad microprocessor\n",
      "I have webcam\n",
      "I have android operating system\n",
      "I have duo microprocessor\n",
      "'Mobile' object has no attribute 'camera'\n"
     ]
    }
   ],
   "source": [
    "# Pythonic way this code is example of EAFP\n",
    "\n",
    "class Laptop:\n",
    "    def operating_system(self):\n",
    "        print('I have windows operating system')\n",
    "        \n",
    "    def microprocessor(self):\n",
    "        print('I have quad microprocessor')\n",
    "        \n",
    "    def camera(self):\n",
    "        print('I have webcam')\n",
    "        \n",
    "class Mobile:\n",
    "    def operating_system(self):\n",
    "        print('I have android operating system')\n",
    "        \n",
    "    def microprocessor(elf):\n",
    "        print('I have duo microprocessor')\n",
    "        \n",
    "def specification(gadget):\n",
    "    try:\n",
    "        gadget.operating_system()\n",
    "        gadget.microprocessor()\n",
    "        gadget.camera()\n",
    "    except AttributeError as e:\n",
    "        print(e)\n",
    "\n",
    "\n",
    "\n",
    "lap=Laptop()\n",
    "specification(lap)\n",
    "\n",
    "mob=Mobile()\n",
    "specification(mob)"
   ]
  },
  {
   "cell_type": "code",
   "execution_count": 5,
   "metadata": {},
   "outputs": [
    {
     "name": "stdout",
     "output_type": "stream",
     "text": [
      "Missing 'Skill' key\n"
     ]
    }
   ],
   "source": [
    "# Another example of EAFP\n",
    "#person={'name':'Sachin','Age':48,'Skill':'Cricket'}\n",
    "person={'name':'Sachin','Age':48}\n",
    "\n",
    "try:\n",
    "    print('This is {name}, {Age} years old and fond of {Skill}'.format(**person))\n",
    "except KeyError as e:\n",
    "    print('Missing {} key'.format(e))\n"
   ]
  },
  {
   "cell_type": "code",
   "execution_count": null,
   "metadata": {},
   "outputs": [],
   "source": []
  }
 ],
 "metadata": {
  "kernelspec": {
   "display_name": "Python 3",
   "language": "python",
   "name": "python3"
  },
  "language_info": {
   "codemirror_mode": {
    "name": "ipython",
    "version": 3
   },
   "file_extension": ".py",
   "mimetype": "text/x-python",
   "name": "python",
   "nbconvert_exporter": "python",
   "pygments_lexer": "ipython3",
   "version": "3.6.4"
  }
 },
 "nbformat": 4,
 "nbformat_minor": 2
}
