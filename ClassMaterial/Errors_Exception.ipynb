{
 "cells": [
  {
   "cell_type": "markdown",
   "metadata": {},
   "source": [
    "# Exception Handling in Python"
   ]
  },
  {
   "cell_type": "markdown",
   "metadata": {},
   "source": [
    "We have different types of exceptions in Python:      \n",
    "    Import Error      \n",
    "    Index Error     \n",
    "    Key Error             \n",
    "    Module not found Error      \n",
    "    StopIteration Error     \n",
    "    etc. etc. etc.     "
   ]
  },
  {
   "cell_type": "markdown",
   "metadata": {},
   "source": [
    "## Try-except block\n",
    "\n",
    "When we have some complex statement that may generate an error, we will keep those statements in try block"
   ]
  },
  {
   "cell_type": "code",
   "execution_count": 4,
   "metadata": {},
   "outputs": [
    {
     "name": "stdout",
     "output_type": "stream",
     "text": [
      "5.0\n",
      "2.5\n",
      "1.6666666666666667\n",
      "Division by zero is found\n",
      "Exception is handled\n"
     ]
    }
   ],
   "source": [
    "try:\n",
    "    for i in [1,2,3,0,4]:\n",
    "        print(5/i)\n",
    "except:\n",
    "    print('Division by zero is found')\n",
    "print(\"Exception is handled\")    "
   ]
  },
  {
   "cell_type": "markdown",
   "metadata": {},
   "source": [
    "## Multiple except blocks"
   ]
  },
  {
   "cell_type": "code",
   "execution_count": 12,
   "metadata": {},
   "outputs": [
    {
     "name": "stdout",
     "output_type": "stream",
     "text": [
      "Incompatible data type in arguement\n",
      "Exception is handled\n"
     ]
    }
   ],
   "source": [
    "a=[1,2,3,4]\n",
    "try:\n",
    "    for i in [5,2,3,0,4]:\n",
    "        #print(a[i])\n",
    "        print('i'+i)\n",
    "        print(5/i)\n",
    "\n",
    "except TypeError:\n",
    "    print('Incompatible data type in arguement')\n",
    "except ZeroDivisionError:\n",
    "    print('Divided by zero')\n",
    "except:                                         # default except\n",
    "    print('Division by zero is found')    \n",
    "print(\"Exception is handled\")    \n"
   ]
  },
  {
   "cell_type": "markdown",
   "metadata": {},
   "source": [
    "## Finally block"
   ]
  },
  {
   "cell_type": "markdown",
   "metadata": {},
   "source": [
    "finally is optional block. It comes after the last except block. The code under finally block gets executed in all cases."
   ]
  },
  {
   "cell_type": "code",
   "execution_count": 17,
   "metadata": {
    "collapsed": true
   },
   "outputs": [
    {
     "name": "stdout",
     "output_type": "stream",
     "text": [
      "We got our output\n"
     ]
    },
    {
     "ename": "IndexError",
     "evalue": "list index out of range",
     "output_type": "error",
     "traceback": [
      "\u001b[0;31m---------------------------------------------------------------------------\u001b[0m",
      "\u001b[0;31mIndexError\u001b[0m                                Traceback (most recent call last)",
      "\u001b[0;32m<ipython-input-17-096af26e0afa>\u001b[0m in \u001b[0;36m<module>\u001b[0;34m()\u001b[0m\n\u001b[1;32m      2\u001b[0m \u001b[0;32mtry\u001b[0m\u001b[0;34m:\u001b[0m\u001b[0;34m\u001b[0m\u001b[0m\n\u001b[1;32m      3\u001b[0m     \u001b[0;32mfor\u001b[0m \u001b[0mi\u001b[0m \u001b[0;32min\u001b[0m \u001b[0;34m[\u001b[0m\u001b[0;36m5\u001b[0m\u001b[0;34m,\u001b[0m\u001b[0;36m2\u001b[0m\u001b[0;34m,\u001b[0m\u001b[0;36m3\u001b[0m\u001b[0;34m,\u001b[0m\u001b[0;36m0\u001b[0m\u001b[0;34m,\u001b[0m\u001b[0;36m4\u001b[0m\u001b[0;34m]\u001b[0m\u001b[0;34m:\u001b[0m\u001b[0;34m\u001b[0m\u001b[0m\n\u001b[0;32m----> 4\u001b[0;31m         \u001b[0mprint\u001b[0m\u001b[0;34m(\u001b[0m\u001b[0ma\u001b[0m\u001b[0;34m[\u001b[0m\u001b[0mi\u001b[0m\u001b[0;34m]\u001b[0m\u001b[0;34m)\u001b[0m\u001b[0;34m\u001b[0m\u001b[0m\n\u001b[0m\u001b[1;32m      5\u001b[0m         \u001b[0mprint\u001b[0m\u001b[0;34m(\u001b[0m\u001b[0;34m'i'\u001b[0m\u001b[0;34m+\u001b[0m\u001b[0mi\u001b[0m\u001b[0;34m)\u001b[0m\u001b[0;34m\u001b[0m\u001b[0m\n\u001b[1;32m      6\u001b[0m         \u001b[0mprint\u001b[0m\u001b[0;34m(\u001b[0m\u001b[0;36m5\u001b[0m\u001b[0;34m/\u001b[0m\u001b[0mi\u001b[0m\u001b[0;34m)\u001b[0m\u001b[0;34m\u001b[0m\u001b[0m\n",
      "\u001b[0;31mIndexError\u001b[0m: list index out of range"
     ]
    }
   ],
   "source": [
    "a=[1,2,3,4]\n",
    "try:\n",
    "    for i in [5,2,3,0,4]:\n",
    "        print(a[i])\n",
    "        print('i'+i)\n",
    "        print(5/i)\n",
    "\n",
    "except TypeError:\n",
    "    print('Incompatible data type in arguement')\n",
    "except ZeroDivisionError:\n",
    "    print('Divided by zero')\n",
    "#except:                                         # default except\n",
    "    #print('Division by zero is found')  \n",
    "finally:\n",
    "    print('We got our output')\n",
    "print(\"Exception is handled\")    \n"
   ]
  },
  {
   "cell_type": "markdown",
   "metadata": {},
   "source": [
    "We can see finally block executes even it throws error."
   ]
  },
  {
   "cell_type": "markdown",
   "metadata": {},
   "source": [
    "## Else block\n",
    "\n",
    "This code is executed only if no exceptions were raised in the try block. Code executed in this block is just like normal code: if there is an exception, it will not be automatically caught (and probably stop the program). Notice that if the else block is executed, then the except block is not, and vice versa. This block is optional."
   ]
  },
  {
   "cell_type": "code",
   "execution_count": 36,
   "metadata": {},
   "outputs": [
    {
     "name": "stdout",
     "output_type": "stream",
     "text": [
      "2\n",
      "3\n",
      "4\n",
      "1\n",
      "Code executed smoothly\n",
      "We got our output\n",
      "Exception is handled\n"
     ]
    }
   ],
   "source": [
    "a=[1,2,3,4]\n",
    "try:\n",
    "    for i in [1,2,3,0]:\n",
    "        print(a[i])\n",
    "               \n",
    "except TypeError:\n",
    "    print('Incompatible data type in arguement')\n",
    "except ZeroDivisionError:\n",
    "    print('Divided by zero')\n",
    "except:                                         # default except\n",
    "    print('Division by zero is found') \n",
    "else:\n",
    "    print('Code executed smoothly')     \n",
    "\n",
    "finally:\n",
    "    print('We got our output')\n",
    "print(\"Exception is handled\")   "
   ]
  },
  {
   "cell_type": "markdown",
   "metadata": {},
   "source": [
    "## Raise keyword\n",
    "\n",
    "When we have to cautious explicitly if any particular exception can be raised. We use raise keyword"
   ]
  },
  {
   "cell_type": "code",
   "execution_count": 22,
   "metadata": {},
   "outputs": [
    {
     "name": "stdout",
     "output_type": "stream",
     "text": [
      "5.0\n",
      "2.5\n",
      "1.6666666666666667\n",
      "Division by zero is found\n",
      "Exception is handled\n"
     ]
    }
   ],
   "source": [
    "try:\n",
    "    for i in [1,2,3,0,4]:\n",
    "        if i==0:\n",
    "            raise ZeroDivisionError\n",
    "        print(5/i)\n",
    "except:\n",
    "    print('Division by zero is found')\n",
    "print(\"Exception is handled\")    "
   ]
  },
  {
   "cell_type": "code",
   "execution_count": 33,
   "metadata": {},
   "outputs": [
    {
     "name": "stdout",
     "output_type": "stream",
     "text": [
      "5.0\n",
      "2.5\n",
      "1.6666666666666667\n",
      "Division by zero is found\n",
      "Exception is handled\n"
     ]
    }
   ],
   "source": [
    "try:\n",
    "    for i in [1,2,3,0,4]:\n",
    "        print(5/i)\n",
    "except:\n",
    "    print('Division by zero is found')\n",
    "    try:\n",
    "        raise\n",
    "    except ZeroDivisionError:\n",
    "        print(\"Exception is handled\")    "
   ]
  },
  {
   "cell_type": "markdown",
   "metadata": {},
   "source": [
    "In this case we reraised the same exception and handled it separately"
   ]
  },
  {
   "cell_type": "markdown",
   "metadata": {},
   "source": [
    "## Define own exceptions"
   ]
  },
  {
   "cell_type": "code",
   "execution_count": null,
   "metadata": {},
   "outputs": [],
   "source": [
    "class MyError(Exception):\n",
    "    "
   ]
  }
 ],
 "metadata": {
  "kernelspec": {
   "display_name": "Python 3",
   "language": "python",
   "name": "python3"
  },
  "language_info": {
   "codemirror_mode": {
    "name": "ipython",
    "version": 3
   },
   "file_extension": ".py",
   "mimetype": "text/x-python",
   "name": "python",
   "nbconvert_exporter": "python",
   "pygments_lexer": "ipython3",
   "version": "3.6.4"
  }
 },
 "nbformat": 4,
 "nbformat_minor": 2
}
