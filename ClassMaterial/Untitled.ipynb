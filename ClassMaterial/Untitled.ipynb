{
 "cells": [
  {
   "cell_type": "code",
   "execution_count": 2,
   "metadata": {},
   "outputs": [
    {
     "name": "stdout",
     "output_type": "stream",
     "text": [
      "enter any no8\n",
      "enter any no0\n"
     ]
    },
    {
     "ename": "ZeroDivisionError",
     "evalue": "division by zero",
     "output_type": "error",
     "traceback": [
      "\u001b[0;31m---------------------------------------------------------------------------\u001b[0m",
      "\u001b[0;31mZeroDivisionError\u001b[0m                         Traceback (most recent call last)",
      "\u001b[0;32m<ipython-input-2-730beaf67995>\u001b[0m in \u001b[0;36m<module>\u001b[0;34m()\u001b[0m\n\u001b[1;32m      1\u001b[0m \u001b[0mx\u001b[0m\u001b[0;34m=\u001b[0m\u001b[0mint\u001b[0m\u001b[0;34m(\u001b[0m\u001b[0minput\u001b[0m\u001b[0;34m(\u001b[0m\u001b[0;34m'enter any no'\u001b[0m\u001b[0;34m)\u001b[0m\u001b[0;34m)\u001b[0m\u001b[0;34m\u001b[0m\u001b[0m\n\u001b[1;32m      2\u001b[0m \u001b[0my\u001b[0m\u001b[0;34m=\u001b[0m\u001b[0mint\u001b[0m\u001b[0;34m(\u001b[0m\u001b[0minput\u001b[0m\u001b[0;34m(\u001b[0m\u001b[0;34m'enter any no'\u001b[0m\u001b[0;34m)\u001b[0m\u001b[0;34m)\u001b[0m\u001b[0;34m\u001b[0m\u001b[0m\n\u001b[0;32m----> 3\u001b[0;31m \u001b[0mprint\u001b[0m\u001b[0;34m(\u001b[0m\u001b[0mx\u001b[0m\u001b[0;34m/\u001b[0m\u001b[0my\u001b[0m\u001b[0;34m)\u001b[0m\u001b[0;34m\u001b[0m\u001b[0m\n\u001b[0m",
      "\u001b[0;31mZeroDivisionError\u001b[0m: division by zero"
     ]
    }
   ],
   "source": [
    "x=int(input('enter any no'))\n",
    "y=int(input('enter any no'))\n",
    "print(x/y)"
   ]
  },
  {
   "cell_type": "code",
   "execution_count": 10,
   "metadata": {},
   "outputs": [
    {
     "name": "stdout",
     "output_type": "stream",
     "text": [
      "enter any nogowtham\n"
     ]
    },
    {
     "ename": "ValueError",
     "evalue": "invalid literal for int() with base 10: 'gowtham'",
     "output_type": "error",
     "traceback": [
      "\u001b[0;31m---------------------------------------------------------------------------\u001b[0m",
      "\u001b[0;31mValueError\u001b[0m                                Traceback (most recent call last)",
      "\u001b[0;32m<ipython-input-10-91d0c0866269>\u001b[0m in \u001b[0;36m<module>\u001b[0;34m()\u001b[0m\n\u001b[0;32m----> 1\u001b[0;31m \u001b[0mx\u001b[0m\u001b[0;34m=\u001b[0m\u001b[0mint\u001b[0m\u001b[0;34m(\u001b[0m\u001b[0minput\u001b[0m\u001b[0;34m(\u001b[0m\u001b[0;34m'enter any no'\u001b[0m\u001b[0;34m)\u001b[0m\u001b[0;34m)\u001b[0m\u001b[0;34m\u001b[0m\u001b[0m\n\u001b[0m\u001b[1;32m      2\u001b[0m \u001b[0my\u001b[0m\u001b[0;34m=\u001b[0m\u001b[0mint\u001b[0m\u001b[0;34m(\u001b[0m\u001b[0minput\u001b[0m\u001b[0;34m(\u001b[0m\u001b[0;34m'enter any no'\u001b[0m\u001b[0;34m)\u001b[0m\u001b[0;34m)\u001b[0m\u001b[0;34m\u001b[0m\u001b[0m\n\u001b[1;32m      3\u001b[0m \u001b[0;32mtry\u001b[0m\u001b[0;34m:\u001b[0m\u001b[0;34m\u001b[0m\u001b[0m\n\u001b[1;32m      4\u001b[0m     \u001b[0mprint\u001b[0m\u001b[0;34m(\u001b[0m\u001b[0mx\u001b[0m\u001b[0;34m/\u001b[0m\u001b[0my\u001b[0m\u001b[0;34m)\u001b[0m\u001b[0;34m\u001b[0m\u001b[0m\n\u001b[1;32m      5\u001b[0m \u001b[0;32mexcept\u001b[0m\u001b[0;34m:\u001b[0m\u001b[0;34m\u001b[0m\u001b[0m\n",
      "\u001b[0;31mValueError\u001b[0m: invalid literal for int() with base 10: 'gowtham'"
     ]
    }
   ],
   "source": [
    "x=int(input('enter any no'))\n",
    "y=int(input('enter any no'))\n",
    "try:\n",
    "    print(x/y)\n",
    "except:\n",
    "    print('y value is o')\n",
    "print(\"program ends\")\n"
   ]
  },
  {
   "cell_type": "code",
   "execution_count": 12,
   "metadata": {},
   "outputs": [
    {
     "name": "stdout",
     "output_type": "stream",
     "text": [
      "enter any nogowtham\n",
      "y value is o\n",
      "program ends\n"
     ]
    }
   ],
   "source": [
    "\n",
    "try:\n",
    "    x=int(input('enter any no'))\n",
    "    y=int(input('enter any no'))\n",
    "    print(x/y)\n",
    "except:\n",
    "    print('y value is o')\n",
    "print(\"program ends\")"
   ]
  },
  {
   "cell_type": "code",
   "execution_count": 18,
   "metadata": {},
   "outputs": [
    {
     "name": "stdout",
     "output_type": "stream",
     "text": [
      "enter any nogowtham\n"
     ]
    },
    {
     "ename": "ValueError",
     "evalue": "invalid literal for int() with base 10: 'gowtham'",
     "output_type": "error",
     "traceback": [
      "\u001b[0;31m---------------------------------------------------------------------------\u001b[0m",
      "\u001b[0;31mValueError\u001b[0m                                Traceback (most recent call last)",
      "\u001b[0;32m<ipython-input-18-84311adeb918>\u001b[0m in \u001b[0;36m<module>\u001b[0;34m()\u001b[0m\n\u001b[1;32m      1\u001b[0m \u001b[0;34m\u001b[0m\u001b[0m\n\u001b[1;32m      2\u001b[0m \u001b[0;32mtry\u001b[0m\u001b[0;34m:\u001b[0m\u001b[0;34m\u001b[0m\u001b[0m\n\u001b[0;32m----> 3\u001b[0;31m     \u001b[0mx\u001b[0m\u001b[0;34m=\u001b[0m\u001b[0mint\u001b[0m\u001b[0;34m(\u001b[0m\u001b[0minput\u001b[0m\u001b[0;34m(\u001b[0m\u001b[0;34m'enter any no'\u001b[0m\u001b[0;34m)\u001b[0m\u001b[0;34m)\u001b[0m\u001b[0;34m\u001b[0m\u001b[0m\n\u001b[0m\u001b[1;32m      4\u001b[0m     \u001b[0my\u001b[0m\u001b[0;34m=\u001b[0m\u001b[0mint\u001b[0m\u001b[0;34m(\u001b[0m\u001b[0minput\u001b[0m\u001b[0;34m(\u001b[0m\u001b[0;34m'enter any no'\u001b[0m\u001b[0;34m)\u001b[0m\u001b[0;34m)\u001b[0m\u001b[0;34m\u001b[0m\u001b[0m\n\u001b[1;32m      5\u001b[0m     \u001b[0mprint\u001b[0m\u001b[0;34m(\u001b[0m\u001b[0mx\u001b[0m\u001b[0;34m/\u001b[0m\u001b[0my\u001b[0m\u001b[0;34m)\u001b[0m\u001b[0;34m\u001b[0m\u001b[0m\n",
      "\u001b[0;31mValueError\u001b[0m: invalid literal for int() with base 10: 'gowtham'"
     ]
    }
   ],
   "source": [
    "\n",
    "try:\n",
    "    x=int(input('enter any no'))\n",
    "    y=int(input('enter any no'))\n",
    "    print(x/y)\n",
    "except ZeroDivisionError:\n",
    "    print('y value is o')\n",
    "print(\"program ends\")"
   ]
  },
  {
   "cell_type": "code",
   "execution_count": 19,
   "metadata": {},
   "outputs": [
    {
     "name": "stdout",
     "output_type": "stream",
     "text": [
      "enter any nogowtham\n",
      "Generic Handler\n",
      "program ends\n"
     ]
    }
   ],
   "source": [
    "\n",
    "try:\n",
    "    x=int(input('enter any no'))\n",
    "    y=int(input('enter any no'))\n",
    "    print(x/y)\n",
    "except ZeroDivisionError:\n",
    "    print('y value is o')\n",
    "except :\n",
    "    print('Generic Handler')\n",
    "print(\"program ends\")"
   ]
  },
  {
   "cell_type": "code",
   "execution_count": 24,
   "metadata": {},
   "outputs": [
    {
     "name": "stdout",
     "output_type": "stream",
     "text": [
      "enter any nogowtham\n",
      "Generic Handler\n",
      "program ends\n"
     ]
    }
   ],
   "source": [
    "\n",
    "try:\n",
    "    x=int(input('enter any no'))\n",
    "    y=int(input('enter any no'))\n",
    "    print(x/y)\n",
    "except ZeroDivisionError:\n",
    "    print('y value is o')\n",
    "except TypeError:\n",
    "    print('Input is incorrect')\n",
    "except :\n",
    "    print('Generic Handler')\n",
    "print(\"program ends\")"
   ]
  },
  {
   "cell_type": "code",
   "execution_count": 26,
   "metadata": {},
   "outputs": [
    {
     "name": "stdout",
     "output_type": "stream",
     "text": [
      "enter any no8\n",
      "enter any no0\n",
      "y value is o\n",
      "enter any no other than 0:4\n",
      "2.0\n"
     ]
    }
   ],
   "source": [
    "\n",
    "try:\n",
    "    x=int(input('enter any no'))\n",
    "    y=int(input('enter any no'))\n",
    "    print(x/y)\n",
    "except ZeroDivisionError:\n",
    "    print('y value is o')\n",
    "    y=int(input('enter any no other than 0:'))\n",
    "except TypeError:\n",
    "    print('Input is incorrect')\n",
    "except :\n",
    "    print('Generic Handler')\n",
    "finally:\n",
    "    print(x/y)"
   ]
  },
  {
   "cell_type": "code",
   "execution_count": 28,
   "metadata": {},
   "outputs": [
    {
     "name": "stdout",
     "output_type": "stream",
     "text": [
      "enter any no8\n",
      "enter any no0\n",
      "y value is o\n",
      "enter any no other than 0:4\n",
      "2.0\n"
     ]
    }
   ],
   "source": [
    "\n",
    "try:\n",
    "    x=int(input('enter any no'))\n",
    "    y=int(input('enter any no'))\n",
    "    print(x/y)\n",
    "except ZeroDivisionError:\n",
    "    print('y value is o')\n",
    "    y=int(input('enter any no other than 0:'))\n",
    "except TypeError:\n",
    "    print('Input is incorrect')\n",
    "except :\n",
    "    print('Generic Handler')\n",
    "finally:\n",
    "    print(x/y)"
   ]
  },
  {
   "cell_type": "code",
   "execution_count": 34,
   "metadata": {},
   "outputs": [],
   "source": [
    "l=['support','prosupport','730','34','open','manage','5','25']"
   ]
  },
  {
   "cell_type": "code",
   "execution_count": 37,
   "metadata": {},
   "outputs": [
    {
     "name": "stdout",
     "output_type": "stream",
     "text": [
      "['730', '34', '5', '25']\n"
     ]
    }
   ],
   "source": [
    "col=[]\n",
    "for a in l :\n",
    "    try:\n",
    "        if type(int(a))==int:\n",
    "            col.append(a)\n",
    "    except:\n",
    "        continue\n",
    "print(col)"
   ]
  },
  {
   "cell_type": "code",
   "execution_count": 41,
   "metadata": {},
   "outputs": [
    {
     "name": "stdout",
     "output_type": "stream",
     "text": [
      "enter any no8\n",
      "enter any no0\n",
      "y value is o\n",
      "enter any no other than 0:2\n",
      "4.0\n"
     ]
    }
   ],
   "source": [
    "\n",
    "try:\n",
    "    x=int(input('enter any no'))\n",
    "    y=int(input('enter any no'))\n",
    "    print(x/y)\n",
    "except ZeroDivisionError:\n",
    "    print('y value is o')\n",
    "    y=int(input('enter any no other than 0:'))\n",
    "except TypeError:\n",
    "    print('Input is incorrect')\n",
    "except :\n",
    "    print('Generic Handler')\n",
    "else:\n",
    "    print(x)\n",
    "    print(y)\n",
    "finally:\n",
    "    print(x/y)"
   ]
  },
  {
   "cell_type": "code",
   "execution_count": null,
   "metadata": {},
   "outputs": [],
   "source": []
  },
  {
   "cell_type": "code",
   "execution_count": null,
   "metadata": {},
   "outputs": [],
   "source": []
  }
 ],
 "metadata": {
  "kernelspec": {
   "display_name": "Python 3",
   "language": "python",
   "name": "python3"
  },
  "language_info": {
   "codemirror_mode": {
    "name": "ipython",
    "version": 3
   },
   "file_extension": ".py",
   "mimetype": "text/x-python",
   "name": "python",
   "nbconvert_exporter": "python",
   "pygments_lexer": "ipython3",
   "version": "3.6.4"
  }
 },
 "nbformat": 4,
 "nbformat_minor": 2
}
