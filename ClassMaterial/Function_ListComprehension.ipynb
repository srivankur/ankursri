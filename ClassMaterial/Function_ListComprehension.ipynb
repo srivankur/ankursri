{
 "cells": [
  {
   "cell_type": "markdown",
   "metadata": {},
   "source": [
    "# Function\n",
    "\n",
    "A function is a set of instructions, packaged together to perform a specific task.\n",
    "In Python function is defined using a keyword def followed by function name(any) followed by ()"
   ]
  },
  {
   "cell_type": "code",
   "execution_count": 3,
   "metadata": {},
   "outputs": [],
   "source": [
    "def hello_func():\n",
    "    print('Hello World!')  # return none"
   ]
  },
  {
   "cell_type": "markdown",
   "metadata": {},
   "source": [
    "To execute the function just type the function with the parentheses."
   ]
  },
  {
   "cell_type": "code",
   "execution_count": 8,
   "metadata": {},
   "outputs": [
    {
     "name": "stdout",
     "output_type": "stream",
     "text": [
      "HI\n",
      "Hello\n",
      "Hello World!\n",
      "Bye\n"
     ]
    }
   ],
   "source": [
    "def hello_func():\n",
    "    print('Hello World!') \n",
    "print('HI')\n",
    "print('Hello')\n",
    "hello_func()\n",
    "print('Bye')"
   ]
  },
  {
   "cell_type": "markdown",
   "metadata": {},
   "source": [
    "A function can return something with return keyword. If no return keyword is used then function is not returning anything."
   ]
  },
  {
   "cell_type": "code",
   "execution_count": 11,
   "metadata": {},
   "outputs": [],
   "source": [
    "def hello_fun():\n",
    "    return 'Hello World!'"
   ]
  },
  {
   "cell_type": "code",
   "execution_count": 12,
   "metadata": {},
   "outputs": [
    {
     "name": "stdout",
     "output_type": "stream",
     "text": [
      "HI_Hello\n",
      "HI\n",
      "Hello\n",
      "Hello World!\n",
      "Bye\n"
     ]
    }
   ],
   "source": [
    "print('HI_Hello')\n",
    "def hello_fun():\n",
    "    return 'Hello World!'\n",
    "print('HI')\n",
    "print('Hello')\n",
    "print(hello_fun())\n",
    "print('Bye')"
   ]
  },
  {
   "cell_type": "code",
   "execution_count": 14,
   "metadata": {},
   "outputs": [
    {
     "name": "stdout",
     "output_type": "stream",
     "text": [
      "HI_Hello\n",
      "HI\n",
      "Hello\n",
      "Bye\n",
      "Hello World!\n"
     ]
    }
   ],
   "source": [
    "print('HI_Hello')\n",
    "def hello_fun():\n",
    "    return 'Hello World!'\n",
    "print('HI')\n",
    "print('Hello')\n",
    "vari=hello_fun()\n",
    "print('Bye')\n",
    "print(vari)"
   ]
  },
  {
   "cell_type": "code",
   "execution_count": 21,
   "metadata": {},
   "outputs": [
    {
     "name": "stdout",
     "output_type": "stream",
     "text": [
      "HI\n",
      "Hello\n",
      "chennai\n"
     ]
    }
   ],
   "source": [
    "print('HI')\n",
    "def printstring(place):\n",
    "    print(place)\n",
    "print('Hello')\n",
    "printstring('chennai')"
   ]
  },
  {
   "cell_type": "code",
   "execution_count": 29,
   "metadata": {},
   "outputs": [
    {
     "name": "stdout",
     "output_type": "stream",
     "text": [
      "program starts\n",
      "Hello\n",
      "gowtham\n",
      "22\n",
      "gowtham\n",
      "22\n"
     ]
    }
   ],
   "source": [
    "print(\"program starts\")\n",
    "def person_info(name,age):\n",
    "    print(name)\n",
    "    print(age)\n",
    "    return(name,age)\n",
    "print('Hello')\n",
    "nam,aging=person_info(\"gowtham\",22)\n",
    "print(nam)\n",
    "print(aging)"
   ]
  },
  {
   "cell_type": "code",
   "execution_count": 22,
   "metadata": {},
   "outputs": [
    {
     "name": "stdout",
     "output_type": "stream",
     "text": [
      "2\n"
     ]
    }
   ],
   "source": [
    "x=2\n",
    "print(x)"
   ]
  },
  {
   "cell_type": "markdown",
   "metadata": {},
   "source": [
    "A function can accept none or some parameters."
   ]
  },
  {
   "cell_type": "code",
   "execution_count": 31,
   "metadata": {},
   "outputs": [
    {
     "name": "stdout",
     "output_type": "stream",
     "text": [
      "Program Starts\n",
      "Hi\n",
      "10\n"
     ]
    }
   ],
   "source": [
    "print('Program Starts')\n",
    "def even_check(num):\n",
    "    if num%2==0:\n",
    "        return 0\n",
    "    else:\n",
    "        return -1\n",
    "\n",
    "print('Hi')\n",
    "number=even_check(68)\n",
    "if number==0:\n",
    "    number=number+10\n",
    "    print(number)\n",
    "else:\n",
    "    print('Number was odd')\n",
    "    \n",
    "    \n",
    "    "
   ]
  },
  {
   "cell_type": "code",
   "execution_count": 16,
   "metadata": {},
   "outputs": [
    {
     "ename": "TypeError",
     "evalue": "even_check() missing 1 required positional argument: 'num'",
     "output_type": "error",
     "traceback": [
      "\u001b[0;31m---------------------------------------------------------------------------\u001b[0m",
      "\u001b[0;31mTypeError\u001b[0m                                 Traceback (most recent call last)",
      "\u001b[0;32m<ipython-input-16-4bf3b20dfebe>\u001b[0m in \u001b[0;36m<module>\u001b[0;34m()\u001b[0m\n\u001b[0;32m----> 1\u001b[0;31m \u001b[0meven_check\u001b[0m\u001b[0;34m(\u001b[0m\u001b[0;34m)\u001b[0m\u001b[0;34m\u001b[0m\u001b[0m\n\u001b[0m",
      "\u001b[0;31mTypeError\u001b[0m: even_check() missing 1 required positional argument: 'num'"
     ]
    }
   ],
   "source": [
    "even_check() # since the function is expecting one arguement"
   ]
  },
  {
   "cell_type": "code",
   "execution_count": 18,
   "metadata": {},
   "outputs": [
    {
     "data": {
      "text/plain": [
       "-1"
      ]
     },
     "execution_count": 18,
     "metadata": {},
     "output_type": "execute_result"
    }
   ],
   "source": [
    "even_check(3)"
   ]
  },
  {
   "cell_type": "markdown",
   "metadata": {},
   "source": [
    "## Default parameter"
   ]
  },
  {
   "cell_type": "code",
   "execution_count": 20,
   "metadata": {},
   "outputs": [],
   "source": [
    "def even_check(num=0):\n",
    "    if num%2==0:\n",
    "        return num\n",
    "    else:\n",
    "        return -1"
   ]
  },
  {
   "cell_type": "code",
   "execution_count": 21,
   "metadata": {},
   "outputs": [
    {
     "data": {
      "text/plain": [
       "0"
      ]
     },
     "execution_count": 21,
     "metadata": {},
     "output_type": "execute_result"
    }
   ],
   "source": [
    "even_check()"
   ]
  },
  {
   "cell_type": "code",
   "execution_count": 22,
   "metadata": {},
   "outputs": [],
   "source": [
    "def retrieve_info(name,age,skill='Python'):\n",
    "    print('His Name is {}. He is of age {}. He has skill in {}'.format(name,age,skill))"
   ]
  },
  {
   "cell_type": "code",
   "execution_count": 23,
   "metadata": {},
   "outputs": [
    {
     "name": "stdout",
     "output_type": "stream",
     "text": [
      "His Name is Rohan. He is of age 24. He has skill in Java\n"
     ]
    }
   ],
   "source": [
    "retrieve_info('Rohan',24,'Java')"
   ]
  },
  {
   "cell_type": "code",
   "execution_count": 24,
   "metadata": {},
   "outputs": [
    {
     "name": "stdout",
     "output_type": "stream",
     "text": [
      "His Name is Sohan. He is of age 26. He has skill in Python\n"
     ]
    }
   ],
   "source": [
    "retrieve_info('Sohan',26)"
   ]
  },
  {
   "cell_type": "markdown",
   "metadata": {},
   "source": [
    "### Pass arguements as keyword-value pair"
   ]
  },
  {
   "cell_type": "code",
   "execution_count": 25,
   "metadata": {},
   "outputs": [
    {
     "name": "stdout",
     "output_type": "stream",
     "text": [
      "His Name is Amit. He is of age 32. He has skill in Perl\n"
     ]
    }
   ],
   "source": [
    "retrieve_info(skill='Perl',name='Amit',age=32)"
   ]
  },
  {
   "cell_type": "code",
   "execution_count": 28,
   "metadata": {},
   "outputs": [
    {
     "name": "stdout",
     "output_type": "stream",
     "text": [
      "His Name is Amit. He is of age 32. He has skill in Python\n"
     ]
    }
   ],
   "source": [
    "retrieve_info(age=32,name='Amit')"
   ]
  },
  {
   "cell_type": "markdown",
   "metadata": {},
   "source": [
    "## \\*args and \\**kwargs\n",
    "Sometimes we don't the number of arguements to be passed. In that case we use \\*args and \\**kwargs in parameter list in the function definition"
   ]
  },
  {
   "cell_type": "code",
   "execution_count": 38,
   "metadata": {},
   "outputs": [],
   "source": [
    "def employees_info(*args,**kwargs):\n",
    "    print(args)\n",
    "    print(kwargs)"
   ]
  },
  {
   "cell_type": "code",
   "execution_count": 41,
   "metadata": {},
   "outputs": [
    {
     "name": "stdout",
     "output_type": "stream",
     "text": [
      "('Akhil', 'Rohan', 'Lucky')\n",
      "{'Project': 'Test Data Management', 'Manager': 'Srinivasan'}\n"
     ]
    }
   ],
   "source": [
    "employees_info('Akhil','Rohan','Lucky',Project='Test Data Management',Manager='Srinivasan')"
   ]
  },
  {
   "cell_type": "code",
   "execution_count": 1,
   "metadata": {},
   "outputs": [],
   "source": [
    "employees=['Amit','Sumit','Rahul','Kusum']\n",
    "project_info={'Project':'Global Payment System','Manager':'Dhiren'}"
   ]
  },
  {
   "cell_type": "code",
   "execution_count": 43,
   "metadata": {},
   "outputs": [
    {
     "name": "stdout",
     "output_type": "stream",
     "text": [
      "(['Amit', 'Sumit', 'Rahul', 'Kusum'], {'Project': 'Global Payment System', 'Manager': 'Dhiren'})\n",
      "{}\n"
     ]
    }
   ],
   "source": [
    "employees_info(employees,project_info)"
   ]
  },
  {
   "cell_type": "markdown",
   "metadata": {},
   "source": [
    "To unpack the values below:"
   ]
  },
  {
   "cell_type": "code",
   "execution_count": 44,
   "metadata": {},
   "outputs": [
    {
     "name": "stdout",
     "output_type": "stream",
     "text": [
      "('Amit', 'Sumit', 'Rahul', 'Kusum')\n",
      "{'Project': 'Global Payment System', 'Manager': 'Dhiren'}\n"
     ]
    }
   ],
   "source": [
    "employees_info(*employees,**project_info) # put one star ahead for args and two starts ahead for kwargs"
   ]
  },
  {
   "cell_type": "markdown",
   "metadata": {},
   "source": [
    "# List Comprehension\n",
    "\n",
    "List comprehension is an easier way of creating lists or can say appending values to empty list."
   ]
  },
  {
   "cell_type": "code",
   "execution_count": 52,
   "metadata": {},
   "outputs": [
    {
     "name": "stdout",
     "output_type": "stream",
     "text": [
      "[3, 5, 2, 4, 6, 7]\n"
     ]
    }
   ],
   "source": [
    "nums=[3,5,2,4,6,7]\n",
    "my_list=[]\n",
    "\n",
    "for n in nums:\n",
    "    my_list.append(n)\n",
    "\n",
    "print(my_list)    "
   ]
  },
  {
   "cell_type": "code",
   "execution_count": 58,
   "metadata": {},
   "outputs": [],
   "source": [
    "# let's try it using List Comprehension\n",
    "my_list1=[n for n in nums]"
   ]
  },
  {
   "cell_type": "code",
   "execution_count": 59,
   "metadata": {},
   "outputs": [
    {
     "data": {
      "text/plain": [
       "[3, 5, 2, 4, 6, 7]"
      ]
     },
     "execution_count": 59,
     "metadata": {},
     "output_type": "execute_result"
    }
   ],
   "source": [
    "my_list1"
   ]
  },
  {
   "cell_type": "markdown",
   "metadata": {},
   "source": [
    "we can do any operation on n in list comprehension"
   ]
  },
  {
   "cell_type": "code",
   "execution_count": 54,
   "metadata": {},
   "outputs": [
    {
     "name": "stdout",
     "output_type": "stream",
     "text": [
      "[9, 25, 4, 16, 36, 49]\n"
     ]
    }
   ],
   "source": [
    "nums=[3,5,2,4,6,7]\n",
    "my_squares=[]\n",
    "\n",
    "for n in nums:\n",
    "    my_squares.append(n*n)\n",
    "\n",
    "print(my_squares) "
   ]
  },
  {
   "cell_type": "code",
   "execution_count": 56,
   "metadata": {},
   "outputs": [],
   "source": [
    "# let's try it using List Comprehension\n",
    "my_squares1=[n*n for n in nums]"
   ]
  },
  {
   "cell_type": "code",
   "execution_count": 57,
   "metadata": {},
   "outputs": [
    {
     "data": {
      "text/plain": [
       "[9, 25, 4, 16, 36, 49]"
      ]
     },
     "execution_count": 57,
     "metadata": {},
     "output_type": "execute_result"
    }
   ],
   "source": [
    "my_squares1"
   ]
  },
  {
   "cell_type": "code",
   "execution_count": null,
   "metadata": {},
   "outputs": [],
   "source": []
  }
 ],
 "metadata": {
  "kernelspec": {
   "display_name": "Python 3",
   "language": "python",
   "name": "python3"
  },
  "language_info": {
   "codemirror_mode": {
    "name": "ipython",
    "version": 3
   },
   "file_extension": ".py",
   "mimetype": "text/x-python",
   "name": "python",
   "nbconvert_exporter": "python",
   "pygments_lexer": "ipython3",
   "version": "3.6.4"
  }
 },
 "nbformat": 4,
 "nbformat_minor": 2
}
