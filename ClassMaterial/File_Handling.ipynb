{
 "cells": [
  {
   "cell_type": "markdown",
   "metadata": {},
   "source": [
    "## print the file's name"
   ]
  },
  {
   "cell_type": "code",
   "execution_count": 2,
   "metadata": {},
   "outputs": [
    {
     "name": "stdout",
     "output_type": "stream",
     "text": [
      "Practice_prgms\n",
      "r\n"
     ]
    }
   ],
   "source": [
    "f=open('Practice_prgms')\n",
    "print(f.name)\n",
    "\n",
    "# to check the mode of the opened file\n",
    "print(f.mode)\n",
    "\n",
    "f.close()\n",
    "\n",
    "# here we have to close the file othrwise the program can give some exception"
   ]
  },
  {
   "cell_type": "code",
   "execution_count": 9,
   "metadata": {
    "scrolled": true
   },
   "outputs": [
    {
     "name": "stdout",
     "output_type": "stream",
     "text": [
      "<class 'str'>\n",
      "\n",
      "1. Write a program in which you ask from user to enter any day of week.\n",
      "   If it's Monday to Friday print a message Weekday\n",
      "   If it's Saturday or Sunday print Weekend.\n",
      "\n",
      "  Use Chained If-else.\n",
      "\n",
      " \n",
      "2. Write a program in which you have a list of even numbers 2,4,8,20,10\n",
      "   You ask from user to enter any even number less than 20\n",
      "   Check if the input is already into the list; if the input number is already in the list \n",
      "   print 'It exists in the list'\n",
      "   otherwise append that number into the list\n",
      "\n",
      "  Hint: Create a list containing above numbers\n",
      "        Use if else\n",
      "        Use append method of list.\n",
      "\n",
      "   \n",
      "\n"
     ]
    }
   ],
   "source": [
    "# good practise to use context manager. It will close the file as we come out of the block\n",
    "with open('Practice_prgms') as f:\n",
    "    f_contents=f.read()\n",
    "    print(type(f_contents))\n",
    "    print(f_contents)     "
   ]
  },
  {
   "cell_type": "code",
   "execution_count": 10,
   "metadata": {},
   "outputs": [
    {
     "name": "stdout",
     "output_type": "stream",
     "text": [
      "<class 'list'>\n",
      "['\\n', '1. Write a program in which you ask from user to enter any day of week.\\n', \"   If it's Monday to Friday print a message Weekday\\n\", \"   If it's Saturday or Sunday print Weekend.\\n\", '\\n', '  Use Chained If-else.\\n', '\\n', ' \\n', '2. Write a program in which you have a list of even numbers 2,4,8,20,10\\n', '   You ask from user to enter any even number less than 20\\n', '   Check if the input is already into the list; if the input number is already in the list \\n', \"   print 'It exists in the list'\\n\", '   otherwise append that number into the list\\n', '\\n', '  Hint: Create a list containing above numbers\\n', '        Use if else\\n', '        Use append method of list.\\n', '\\n', '   \\n']\n"
     ]
    }
   ],
   "source": [
    "with open('Practice_prgms') as f:    \n",
    "    f_contentline=f.readlines()\n",
    "    print(type(f_contentline))\n",
    "    print(f_contentline)    "
   ]
  },
  {
   "cell_type": "code",
   "execution_count": 3,
   "metadata": {},
   "outputs": [
    {
     "name": "stdout",
     "output_type": "stream",
     "text": [
      "\n",
      "\n",
      "1. Write a program in which you ask from user to enter any day of week.\n",
      "\n",
      "   If it's Monday to Friday print a message Weekday\n",
      "\n",
      "   If it's Saturday or Sunday print Weekend.\n",
      "\n",
      "\n",
      "\n",
      "  Use Chained If-else.\n",
      "\n",
      "\n",
      "\n",
      " \n",
      "\n",
      "2. Write a program in which you have a list of even numbers 2,4,8,20,10\n",
      "\n",
      "   You ask from user to enter any even number less than 20\n",
      "\n",
      "   Check if the input is already into the list; if the input number is already in the list \n",
      "\n",
      "   print 'It exists in the list'\n",
      "\n",
      "   otherwise append that number into the list\n",
      "\n",
      "\n",
      "\n",
      "  Hint: Create a list containing above numbers\n",
      "\n",
      "        Use if else\n",
      "\n",
      "        Use append method of list.\n",
      "\n",
      "\n",
      "\n",
      "   \n",
      "\n"
     ]
    }
   ],
   "source": [
    "with open('Practice_prgms') as f:    \n",
    "    for ft in f.readlines():\n",
    "        print(ft)   "
   ]
  },
  {
   "cell_type": "code",
   "execution_count": 12,
   "metadata": {},
   "outputs": [
    {
     "name": "stdout",
     "output_type": "stream",
     "text": [
      "\n",
      "\n",
      "1. Write a program in which you ask from user to enter any day of week.\n",
      "\n",
      "   If it's Monday to Friday print a message Weekday\n",
      "\n",
      "   If it's Saturday or Sunday print Weekend.\n",
      "\n",
      "\n",
      "\n",
      "  Use Chained If-else.\n",
      "\n",
      "\n",
      "\n",
      " \n",
      "\n",
      "2. Write a program in which you have a list of even numbers 2,4,8,20,10\n",
      "\n",
      "   You ask from user to enter any even number less than 20\n",
      "\n",
      "   Check if the input is already into the list; if the input number is already in the list \n",
      "\n",
      "   print 'It exists in the list'\n",
      "\n",
      "   otherwise append that number into the list\n",
      "\n",
      "\n",
      "\n",
      "  Hint: Create a list containing above numbers\n",
      "\n",
      "        Use if else\n",
      "\n",
      "        Use append method of list.\n",
      "\n",
      "\n",
      "\n",
      "   \n",
      "\n"
     ]
    }
   ],
   "source": [
    "with open('Practice_prgms') as f:    \n",
    "    for line in f:\n",
    "        print(line)    "
   ]
  },
  {
   "cell_type": "markdown",
   "metadata": {},
   "source": [
    "### write contents from another file"
   ]
  },
  {
   "cell_type": "code",
   "execution_count": 14,
   "metadata": {},
   "outputs": [],
   "source": [
    "with open('Practice_prgms','r') as rf:\n",
    "    with open('Practice_prgms_copy','w') as wf:\n",
    "        for line in rf:\n",
    "            wf.write(line)"
   ]
  },
  {
   "cell_type": "code",
   "execution_count": 15,
   "metadata": {},
   "outputs": [],
   "source": [
    "## to copy a image mode:binary\n",
    "with open('AI.png','rb') as rf:\n",
    "    with open('AI_copy.png','wb') as wf:\n",
    "        for line in rf:\n",
    "            wf.write(line)"
   ]
  },
  {
   "cell_type": "code",
   "execution_count": null,
   "metadata": {},
   "outputs": [],
   "source": []
  }
 ],
 "metadata": {
  "kernelspec": {
   "display_name": "Python 3",
   "language": "python",
   "name": "python3"
  },
  "language_info": {
   "codemirror_mode": {
    "name": "ipython",
    "version": 3
   },
   "file_extension": ".py",
   "mimetype": "text/x-python",
   "name": "python",
   "nbconvert_exporter": "python",
   "pygments_lexer": "ipython3",
   "version": "3.6.4"
  }
 },
 "nbformat": 4,
 "nbformat_minor": 2
}
