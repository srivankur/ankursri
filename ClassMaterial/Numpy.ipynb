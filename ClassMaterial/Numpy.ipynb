{
 "cells": [
  {
   "cell_type": "code",
   "execution_count": 1,
   "metadata": {},
   "outputs": [
    {
     "data": {
      "text/plain": [
       "[1, 2, 3, 4, 5, 6]"
      ]
     },
     "execution_count": 1,
     "metadata": {},
     "output_type": "execute_result"
    }
   ],
   "source": [
    "a=[1,2,3]\n",
    "b=[4,5,6]\n",
    "a+b"
   ]
  },
  {
   "cell_type": "code",
   "execution_count": 3,
   "metadata": {},
   "outputs": [
    {
     "data": {
      "text/plain": [
       "[5, 7, 9]"
      ]
     },
     "execution_count": 3,
     "metadata": {},
     "output_type": "execute_result"
    }
   ],
   "source": [
    "c=[x+y for x,y in zip(a,b)]\n",
    "c"
   ]
  },
  {
   "cell_type": "code",
   "execution_count": 4,
   "metadata": {},
   "outputs": [
    {
     "data": {
      "text/plain": [
       "array([5, 7, 9])"
      ]
     },
     "execution_count": 4,
     "metadata": {},
     "output_type": "execute_result"
    }
   ],
   "source": [
    "import numpy as np\n",
    "a=np.array([1,2,3])\n",
    "b=np.array([4,5,6])\n",
    "a+b"
   ]
  },
  {
   "cell_type": "markdown",
   "metadata": {},
   "source": [
    "## numpy is faster"
   ]
  },
  {
   "cell_type": "code",
   "execution_count": 10,
   "metadata": {},
   "outputs": [
    {
     "name": "stdout",
     "output_type": "stream",
     "text": [
      "List time 13.773918151855469\n",
      "numpy array time 1.894235610961914\n"
     ]
    }
   ],
   "source": [
    "import numpy as np\n",
    "import time\n",
    "\n",
    "limit=100000\n",
    "l1=range(limit)\n",
    "l2=range(limit)\n",
    "\n",
    "a1=np.arange(limit)\n",
    "a2=np.arange(limit)\n",
    "\n",
    "start=time.time()\n",
    "summation=[x+y for x,y in zip(l1,l2)]\n",
    "print('List time',((time.time())-start)  * 1000)\n",
    "\n",
    "start=time.time()\n",
    "summation=a1+a2\n",
    "print('numpy array time',((time.time())-start)  * 1000)"
   ]
  },
  {
   "cell_type": "markdown",
   "metadata": {},
   "source": [
    "## Sorting"
   ]
  },
  {
   "cell_type": "code",
   "execution_count": 15,
   "metadata": {},
   "outputs": [
    {
     "name": "stdout",
     "output_type": "stream",
     "text": [
      "[[1 4]\n",
      " [1 3]]\n"
     ]
    }
   ],
   "source": [
    "# return the sorted array\n",
    "x = np.array([[1,4],[3,1]])\n",
    "out = np.sort(x, axis=1)\n",
    "x.sort(axis=1)\n",
    "print(out)"
   ]
  },
  {
   "cell_type": "code",
   "execution_count": 22,
   "metadata": {},
   "outputs": [
    {
     "name": "stdout",
     "output_type": "stream",
     "text": [
      "[9 3 1 7 4 3 6]\n",
      "[2 1 5 4 6 3 0]\n",
      "Sorted array-> [1 3 3 4 6 7 9]\n"
     ]
    }
   ],
   "source": [
    "# to get the indices of sorted array\n",
    "\n",
    "import numpy as np \n",
    "  \n",
    "a = np.array([9, 3, 1, 7, 4, 3, 6]) \n",
    "print(a)\n",
    "b = np.argsort(a) \n",
    "print(b)\n",
    "# To get sorted array using sorted indices \n",
    "# c is temp array created of same len as of b \n",
    "c = np.zeros(len(b), dtype = int) \n",
    "for i in range(0, len(b)): \n",
    "    c[i]= a[b[i]] \n",
    "print('Sorted array->', c) \n"
   ]
  },
  {
   "cell_type": "code",
   "execution_count": 28,
   "metadata": {},
   "outputs": [
    {
     "name": "stdout",
     "output_type": "stream",
     "text": [
      "[[1 4 3]\n",
      " [3 1 2]]\n",
      "---------------\n",
      "[[0 2 1]\n",
      " [1 2 0]]\n"
     ]
    }
   ],
   "source": [
    "x = np.array([[1,4,3],[3,1,2]])\n",
    "out = np.argsort(x, axis=1)\n",
    "print(x)\n",
    "print('---------------')\n",
    "print(out)"
   ]
  },
  {
   "cell_type": "code",
   "execution_count": 29,
   "metadata": {},
   "outputs": [
    {
     "name": "stdout",
     "output_type": "stream",
     "text": [
      "column a, column b\n",
      "9   4\n",
      "3   6\n",
      "1   9\n",
      "3   2\n",
      "4   1\n",
      "3   8\n",
      "6   7\n",
      "Sorted indices-> [2 3 1 5 4 6 0]\n"
     ]
    }
   ],
   "source": [
    "# return the indices of sorted array on multiple columns\n",
    "\n",
    "import numpy as np \n",
    "  \n",
    "a = np.array([9, 3, 1, 3, 4, 3, 6]) # First column \n",
    "b = np.array([4, 6, 9, 2, 1, 8, 7]) # Second column \n",
    "print('column a, column b') \n",
    "for (i, j) in zip(a, b): \n",
    "    print(i, ' ', j) \n",
    "  \n",
    "ind = np.lexsort((b, a)) # Sort by a then by b \n",
    "print('Sorted indices->', ind) "
   ]
  },
  {
   "cell_type": "code",
   "execution_count": 33,
   "metadata": {},
   "outputs": [
    {
     "name": "stdout",
     "output_type": "stream",
     "text": [
      "column a, column b\n",
      "9   4   3\n",
      "3   6   1\n",
      "1   9   5\n",
      "3   2   3\n",
      "4   1   7\n",
      "3   8   9\n",
      "6   7   0\n",
      "Sorted indices-> [6 1 3 0 2 4 5]\n"
     ]
    }
   ],
   "source": [
    "# return the indices of sorted array on multiple columns\n",
    "\n",
    "import numpy as np \n",
    "  \n",
    "a = np.array([9, 3, 1, 3, 4, 3, 6]) # First column \n",
    "b = np.array([4, 6, 9, 2, 1, 8, 7]) # Second column \n",
    "c=  np.array([3, 1, 5, 3, 7, 9, 0]) # third column\n",
    "print('column a, column b') \n",
    "for (i, j, k) in zip(a, b,c): \n",
    "    print(i, ' ', j,' ',k) \n",
    "  \n",
    "ind = np.lexsort((b, a,c)) # Sort by a then by b \n",
    "print('Sorted indices->', ind) "
   ]
  },
  {
   "cell_type": "markdown",
   "metadata": {},
   "source": [
    "## Searching"
   ]
  },
  {
   "cell_type": "code",
   "execution_count": 37,
   "metadata": {},
   "outputs": [
    {
     "name": "stdout",
     "output_type": "stream",
     "text": [
      "x = [[9 6 2 1 4]\n",
      " [5 3 7 8 0]]\n",
      "maximum values = [9 8]\n",
      "max indices = [0 3]\n",
      "minimum values = [1 0]\n",
      "min indices = [3 4]\n"
     ]
    }
   ],
   "source": [
    "x = np.random.permutation(10).reshape(2, 5)\n",
    "print(\"x =\", x)\n",
    "print(\"maximum values =\", np.max(x, 1))\n",
    "print(\"max indices =\", np.argmax(x, 1))\n",
    "print(\"minimum values =\", np.min(x, 1))\n",
    "print(\"min indices =\", np.argmin(x, 1))\n"
   ]
  },
  {
   "cell_type": "code",
   "execution_count": 42,
   "metadata": {},
   "outputs": [
    {
     "name": "stdout",
     "output_type": "stream",
     "text": [
      "maximum values ignoring NaNs = [4. 3.]\n",
      "max indices = [1 0]\n",
      "minimum values ignoring NaNs = [4. 2.]\n",
      "min indices = [1 1]\n"
     ]
    }
   ],
   "source": [
    "x = np.array([[np.nan, 4], [3, 2]])\n",
    "print(\"maximum values ignoring NaNs =\", np.nanmax(x, 1))\n",
    "print(\"max indices =\", np.nanargmax(x, 1))\n",
    "print(\"minimum values ignoring NaNs =\", np.nanmin(x, 1))\n",
    "print(\"min indices =\", np.nanargmin(x, 1))"
   ]
  },
  {
   "cell_type": "markdown",
   "metadata": {},
   "source": [
    "## Counting"
   ]
  },
  {
   "cell_type": "code",
   "execution_count": 43,
   "metadata": {},
   "outputs": [
    {
     "name": "stdout",
     "output_type": "stream",
     "text": [
      "5\n"
     ]
    }
   ],
   "source": [
    "x = [[0,1,7,0,0],[3,0,0,2,19]]\n",
    "print(np.count_nonzero(x))\n"
   ]
  },
  {
   "cell_type": "markdown",
   "metadata": {},
   "source": [
    "## String"
   ]
  },
  {
   "cell_type": "code",
   "execution_count": 44,
   "metadata": {},
   "outputs": [
    {
     "name": "stdout",
     "output_type": "stream",
     "text": [
      "['Hello world' 'Say something']\n"
     ]
    }
   ],
   "source": [
    "# Concatenate\n",
    "\n",
    "x1 = np.array(['Hello', 'Say'], dtype=np.str)\n",
    "x2 = np.array([' world', ' something'], dtype=np.str)\n",
    "out = np.char.add(x1, x2)\n",
    "print(out)"
   ]
  },
  {
   "cell_type": "code",
   "execution_count": 46,
   "metadata": {},
   "outputs": [
    {
     "name": "stdout",
     "output_type": "stream",
     "text": [
      "capitalized = ['Hello world' 'Say something']\n",
      "lowered = ['hello world' 'say something']\n",
      "uppered = ['HELLO WORLD' 'SAY SOMETHING']\n"
     ]
    }
   ],
   "source": [
    "x = np.array(['heLLo woRLd', 'Say sOmething'], dtype=np.str)\n",
    "capitalized = np.char.capitalize(x)\n",
    "lowered = np.char.lower(x)\n",
    "uppered = np.char.upper(x)\n",
    "swapcased = np.char.swapcase(x)\n",
    "titlecased = np.char.title(x)\n",
    "print(\"capitalized =\", capitalized)\n",
    "print(\"lowered =\", lowered)\n",
    "print(\"uppered =\", uppered)"
   ]
  },
  {
   "cell_type": "code",
   "execution_count": 47,
   "metadata": {},
   "outputs": [
    {
     "name": "stdout",
     "output_type": "stream",
     "text": [
      "['h e l l o   w o r l d' 's a y   s o m e t h i n g']\n"
     ]
    }
   ],
   "source": [
    "x = np.array(['hello world', 'say something'], dtype=np.str)\n",
    "out = np.char.join(\" \", x)\n",
    "print(out)"
   ]
  },
  {
   "cell_type": "code",
   "execution_count": 50,
   "metadata": {},
   "outputs": [
    {
     "name": "stdout",
     "output_type": "stream",
     "text": [
      "[list(['Hello', 'my', 'name', 'is', 'John'])]\n"
     ]
    }
   ],
   "source": [
    "x = np.array(['Hello my name is John'], dtype=np.str)\n",
    "out = np.char.split(x)\n",
    "print(out)"
   ]
  },
  {
   "cell_type": "code",
   "execution_count": null,
   "metadata": {},
   "outputs": [],
   "source": []
  }
 ],
 "metadata": {
  "kernelspec": {
   "display_name": "Python 3",
   "language": "python",
   "name": "python3"
  },
  "language_info": {
   "codemirror_mode": {
    "name": "ipython",
    "version": 3
   },
   "file_extension": ".py",
   "mimetype": "text/x-python",
   "name": "python",
   "nbconvert_exporter": "python",
   "pygments_lexer": "ipython3",
   "version": "3.6.4"
  }
 },
 "nbformat": 4,
 "nbformat_minor": 2
}
