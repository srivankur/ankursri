{
 "cells": [
  {
   "cell_type": "markdown",
   "metadata": {},
   "source": [
    "## First-Class Functions:\n",
    "\"A programming language is said to have first-class functions if it treats functions as first-class citizens.\"\n",
    "\n",
    "## First-Class Citizen Programming:\n",
    "\"A first-class citizen(sometimes called first-class objects) in a programming language is an entity which supports all the operations generally available to other entities. These operations typically include being passed as an arguement, returned from a function, and assigned to a variable\""
   ]
  },
  {
   "cell_type": "code",
   "execution_count": 3,
   "metadata": {},
   "outputs": [
    {
     "name": "stdout",
     "output_type": "stream",
     "text": [
      "<function raise_power at 0x7f1b24818620>\n",
      "<function raise_power at 0x7f1b24818620>\n"
     ]
    }
   ],
   "source": [
    "# Here we will see operations passed as an arguement and assigned to a variable\n",
    "\n",
    "def raise_power(x,y):\n",
    "    return x**y\n",
    "\n",
    "func=raise_power   # take away the parenthesis while assigning the function to a variable\n",
    "print(raise_power)\n",
    "print(func)\n"
   ]
  },
  {
   "cell_type": "markdown",
   "metadata": {},
   "source": [
    "Both are pointing to same function."
   ]
  },
  {
   "cell_type": "code",
   "execution_count": 8,
   "metadata": {},
   "outputs": [
    {
     "name": "stdout",
     "output_type": "stream",
     "text": [
      "81\n"
     ]
    }
   ],
   "source": [
    "print(func(3,4) )  # func is behaving same as raise_power"
   ]
  },
  {
   "cell_type": "code",
   "execution_count": 15,
   "metadata": {},
   "outputs": [
    {
     "name": "stdout",
     "output_type": "stream",
     "text": [
      "[8, 81, 256]\n"
     ]
    }
   ],
   "source": [
    "## create our own map functions from scratch\n",
    "def raise_power(x,y):\n",
    "    return x**y\n",
    "\n",
    "\n",
    "def my_map(func,arg_list):\n",
    "    result=[]\n",
    "    for i,j in arg_list:\n",
    "        result.append(func(i,j))\n",
    "    return result\n",
    "\n",
    "raised_powers=my_map(raise_power,[(2,3),(3,4),(4,4)])\n",
    "print(raised_powers)"
   ]
  },
  {
   "cell_type": "code",
   "execution_count": 16,
   "metadata": {},
   "outputs": [
    {
     "name": "stdout",
     "output_type": "stream",
     "text": [
      "Log: Hi\n"
     ]
    }
   ],
   "source": [
    "# Here we will see operation function is returned from a function\n",
    "\n",
    "def logger(msg):\n",
    "    def log_message():\n",
    "        print('Log:', msg)\n",
    "        \n",
    "    return log_message\n",
    "\n",
    "log_hi=logger('Hi')  # It creates the inner function log_message() and save the state of local variable \n",
    "                    #  and return the inner function\n",
    "        \n",
    "log_hi()            # log_hi contains the inner function. So we can execute it."
   ]
  },
  {
   "cell_type": "code",
   "execution_count": 17,
   "metadata": {},
   "outputs": [
    {
     "name": "stdout",
     "output_type": "stream",
     "text": [
      "<h1>Test Headline!</h1>\n",
      "<h1>Another Headline!</h1>\n",
      "<p>Test Paragraph!</p>\n"
     ]
    }
   ],
   "source": [
    "def html_tag(tag):\n",
    "\n",
    "    def wrap_text(msg):\n",
    "        print('<{0}>{1}</{0}>'.format(tag, msg))\n",
    "\n",
    "    return wrap_text\n",
    "\n",
    "print_h1 = html_tag('h1')\n",
    "print_h1('Test Headline!')\n",
    "print_h1('Another Headline!')\n",
    "\n",
    "print_p = html_tag('p')\n",
    "print_p('Test Paragraph!')\n",
    "\n",
    "# Here we can see that print_h1(wrap_text) save the state of arguement tag."
   ]
  },
  {
   "cell_type": "markdown",
   "metadata": {},
   "source": [
    "# Decorators"
   ]
  },
  {
   "cell_type": "code",
   "execution_count": 22,
   "metadata": {},
   "outputs": [
    {
     "name": "stdout",
     "output_type": "stream",
     "text": [
      "Hi\n",
      "Hi\n"
     ]
    }
   ],
   "source": [
    "# one more example that inner function save the state of local variable.\n",
    "\n",
    "def outer_func(msg):\n",
    "    message=msg\n",
    "    def inner_func():\n",
    "        print(message)\n",
    "    return inner_func\n",
    "\n",
    "my_func=outer_func('Hi')\n",
    "my_func()\n",
    "my_func()"
   ]
  },
  {
   "cell_type": "markdown",
   "metadata": {},
   "source": [
    "In Decorators in place of passing variable as parameter to outer function we will pass a function as a parameter."
   ]
  },
  {
   "cell_type": "code",
   "execution_count": 29,
   "metadata": {},
   "outputs": [
    {
     "name": "stdout",
     "output_type": "stream",
     "text": [
      "Original executed\n",
      "display function executed\n"
     ]
    }
   ],
   "source": [
    "def decorating_func(orig_func):\n",
    "    def wrap_func():\n",
    "        print('Original executed')\n",
    "        return orig_func()\n",
    "    return wrap_func\n",
    "\n",
    "# one way\n",
    "def display():\n",
    "    print('display function executed')\n",
    "    \n",
    "decorated_display=decorating_func(display)    \n",
    "    \n",
    "decorated_display()"
   ]
  },
  {
   "cell_type": "code",
   "execution_count": 30,
   "metadata": {},
   "outputs": [
    {
     "name": "stdout",
     "output_type": "stream",
     "text": [
      "Original executed\n",
      "display function executed\n"
     ]
    }
   ],
   "source": [
    "def decorating_func(orig_func):\n",
    "    def wrap_func():\n",
    "        print('Original executed')\n",
    "        return orig_func()\n",
    "    return wrap_func\n",
    "\n",
    "# onanother way\n",
    "@decorating_func\n",
    "def display():\n",
    "    print('display function executed')\n",
    "    \n",
    "\n",
    "display()"
   ]
  },
  {
   "cell_type": "code",
   "execution_count": 33,
   "metadata": {},
   "outputs": [
    {
     "name": "stdout",
     "output_type": "stream",
     "text": [
      "Original executed\n",
      "display function executed\n",
      "Original executed\n",
      "display info with arguements Steve, 39\n"
     ]
    }
   ],
   "source": [
    "def decorating_func(orig_func):\n",
    "    def wrap_func(*args, **kwargs):\n",
    "        print('Original executed')\n",
    "        return orig_func(*args, **kwargs)\n",
    "    return wrap_func\n",
    "\n",
    "# onanother way\n",
    "@decorating_func\n",
    "def display():\n",
    "    print('display function executed')\n",
    "    \n",
    "\n",
    "display()\n",
    "\n",
    "\n",
    "# what if original function has arguements then below\n",
    "@decorating_func\n",
    "def display_info(name,age):\n",
    "    print('display info with arguements {}, {}'.format(name,age))\n",
    "    \n",
    "display_info('Steve',39)    "
   ]
  },
  {
   "cell_type": "code",
   "execution_count": null,
   "metadata": {},
   "outputs": [],
   "source": []
  }
 ],
 "metadata": {
  "kernelspec": {
   "display_name": "Python 3",
   "language": "python",
   "name": "python3"
  },
  "language_info": {
   "codemirror_mode": {
    "name": "ipython",
    "version": 3
   },
   "file_extension": ".py",
   "mimetype": "text/x-python",
   "name": "python",
   "nbconvert_exporter": "python",
   "pygments_lexer": "ipython3",
   "version": "3.6.4"
  }
 },
 "nbformat": 4,
 "nbformat_minor": 2
}
