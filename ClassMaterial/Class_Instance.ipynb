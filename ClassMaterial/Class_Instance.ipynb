{
 "cells": [
  {
   "cell_type": "markdown",
   "metadata": {},
   "source": [
    "# Classes"
   ]
  },
  {
   "cell_type": "markdown",
   "metadata": {},
   "source": [
    "### Why we need classes?"
   ]
  },
  {
   "cell_type": "markdown",
   "metadata": {},
   "source": [
    "Classes allow us to logically group our data and functions in a way that's easy to reuse and also easy to build.\n",
    "\n",
    "The data in Class called attributes.     \n",
    "The functions defined in Class called methods.      \n"
   ]
  },
  {
   "cell_type": "markdown",
   "metadata": {},
   "source": [
    "# Instance"
   ]
  },
  {
   "cell_type": "markdown",
   "metadata": {},
   "source": [
    "A real entity that belongs to the class is called Instance. So Class is a blueprint of methods and attributes and Instance is an entity or object which holds those attributes and methods. A Class can have a number of Instances. "
   ]
  },
  {
   "cell_type": "code",
   "execution_count": 7,
   "metadata": {},
   "outputs": [
    {
     "name": "stdout",
     "output_type": "stream",
     "text": [
      "<__main__.Employee object at 0x7f8378044eb8>\n",
      "<__main__.Employee object at 0x7f8378049cf8>\n",
      "<class '__main__.Employee'>\n",
      "<class '__main__.Employee'>\n",
      "Tom\n",
      "50000\n"
     ]
    }
   ],
   "source": [
    "class Employee:\n",
    "    pass\n",
    "\n",
    "emp1=Employee()\n",
    "emp2=Employee()\n",
    "\n",
    "# Employee is Class. emp1 & emp2 are instances of Class Employee.\n",
    "\n",
    "print(emp1)\n",
    "print(emp2)\n",
    "\n",
    "print(type(emp1))\n",
    "print(type(emp2))\n",
    "\n",
    "emp1.first='Tom'\n",
    "emp1.last='Hanks'\n",
    "\n",
    "\n",
    "emp2.salary=50000\n",
    "\n",
    "print(emp1.first)\n",
    "print(emp2.salary)"
   ]
  },
  {
   "cell_type": "code",
   "execution_count": 10,
   "metadata": {},
   "outputs": [
    {
     "name": "stdout",
     "output_type": "stream",
     "text": [
      "Tom.Hanks@email.com\n",
      "Tom Hanks\n",
      "Rajat Kapoor\n"
     ]
    }
   ],
   "source": [
    "class Employee:\n",
    "\n",
    "    def __init__(self, first, last, pay):\n",
    "        self.first = first\n",
    "        self.last = last\n",
    "        self.email = first + '.' + last + '@email.com'\n",
    "        self.pay = pay\n",
    "\n",
    "    def fullname(self):\n",
    "        return '{} {}'.format(self.first, self.last)\n",
    "\n",
    "emp_1 = Employee('Tom', 'Hanks', 50000)\n",
    "emp_2 = Employee('Rajat', 'Kapoor', 60000)\n",
    "\n",
    "print(emp_1.email)\n",
    "\n",
    "print(Employee.fullname(emp_1))\n",
    "print(emp_2.fullname())"
   ]
  },
  {
   "cell_type": "code",
   "execution_count": 11,
   "metadata": {},
   "outputs": [
    {
     "name": "stdout",
     "output_type": "stream",
     "text": [
      "140202403719040\n",
      "140202631347272\n"
     ]
    }
   ],
   "source": [
    "print(id(emp_1.email))\n",
    "print(id(emp_2.email))\n",
    "\n",
    "# Both instances have separate address space for instance variables."
   ]
  },
  {
   "cell_type": "markdown",
   "metadata": {},
   "source": [
    "## Class Variables\n",
    "\n",
    "A variable which is shared among all instances of that class is Class Variable."
   ]
  },
  {
   "cell_type": "code",
   "execution_count": 33,
   "metadata": {},
   "outputs": [
    {
     "name": "stdout",
     "output_type": "stream",
     "text": [
      "50000\n",
      "52500\n",
      "1.06\n",
      "1.06\n",
      "1.06\n",
      "Address: 140202631628984\n",
      "Address: 140202631628984\n",
      "{'first': 'Tom', 'last': 'Hanks', 'email': 'Tom.Hanks@email.com', 'pay': 52500}\n",
      "{'first': 'Rajat', 'last': 'Kapoor', 'email': 'Rajat.Kapoor@email.com', 'pay': 60000}\n",
      "{'__module__': '__main__', 'raise_amount': 1.06, '__init__': <function Employee.__init__ at 0x7f836a79ebf8>, 'fullname': <function Employee.fullname at 0x7f836a79e950>, 'apply_raise': <function Employee.apply_raise at 0x7f836a79e048>, '__dict__': <attribute '__dict__' of 'Employee' objects>, '__weakref__': <attribute '__weakref__' of 'Employee' objects>, '__doc__': None}\n",
      "1.06\n",
      "1.07\n",
      "1.06\n",
      "{'first': 'Tom', 'last': 'Hanks', 'email': 'Tom.Hanks@email.com', 'pay': 52500, 'raise_amount': 1.07}\n",
      "{'first': 'Rajat', 'last': 'Kapoor', 'email': 'Rajat.Kapoor@email.com', 'pay': 60000}\n",
      "{'__module__': '__main__', 'raise_amount': 1.06, '__init__': <function Employee.__init__ at 0x7f836a79ebf8>, 'fullname': <function Employee.fullname at 0x7f836a79e950>, 'apply_raise': <function Employee.apply_raise at 0x7f836a79e048>, '__dict__': <attribute '__dict__' of 'Employee' objects>, '__weakref__': <attribute '__weakref__' of 'Employee' objects>, '__doc__': None}\n",
      "Address: Address: 140202631628816\n",
      "Address: 140202631628984\n"
     ]
    }
   ],
   "source": [
    "class Employee:\n",
    "    \n",
    "    raise_amount=1.05\n",
    "    \n",
    "    def __init__(self, first, last, pay):\n",
    "        self.first = first\n",
    "        self.last = last\n",
    "        self.email = first + '.' + last + '@email.com'\n",
    "        self.pay = pay\n",
    "\n",
    "    def fullname(self):\n",
    "        return '{} {}'.format(self.first, self.last)\n",
    "    \n",
    "    def apply_raise(self):\n",
    "        self.pay=int(self.pay * self.raise_amount)  # Access raise_amount through class Employee or \n",
    "                                                    # instance self. But using self is better usecase as some\n",
    "                                                    # employee can have different raise_amount\n",
    "\n",
    "emp_1 = Employee('Tom', 'Hanks', 50000)\n",
    "emp_2 = Employee('Rajat', 'Kapoor', 60000)\n",
    "\n",
    "print(emp_1.pay)\n",
    "emp_1.apply_raise()\n",
    "print(emp_1.pay)\n",
    "\n",
    "# lets change raise_amount\n",
    "Employee.raise_amount=1.06\n",
    "\n",
    "print(Employee.raise_amount)\n",
    "print(emp_1.raise_amount)\n",
    "print(emp_2.raise_amount)\n",
    "\n",
    "\n",
    "print('Address:',id(emp_1.raise_amount))\n",
    "print('Address:',id(emp_2.raise_amount))\n",
    "\n",
    "# Both instances have shared address space for class variables\n",
    "\n",
    "# let's check the variables of emp_1, emp_2 and Employee\n",
    "print(emp_1.__dict__)\n",
    "print(emp_2.__dict__)\n",
    "print(Employee.__dict__)\n",
    "\n",
    "# We can see raise_amount is not variable of emp_1 and emp_2\n",
    "\n",
    "# Now update raise_amount using emp_1\n",
    "emp_1.raise_amount=1.07\n",
    "\n",
    "print(Employee.raise_amount)\n",
    "print(emp_1.raise_amount)\n",
    "print(emp_2.raise_amount)\n",
    "\n",
    "# let's check the variables of emp_1, emp_2 and Employee\n",
    "print(emp_1.__dict__)\n",
    "print(emp_2.__dict__)\n",
    "print(Employee.__dict__)\n",
    "\n",
    "print('Address:','Address:',id(emp_1.raise_amount))\n",
    "print('Address:',id(emp_2.raise_amount))\n",
    "\n",
    "# Both instances have different address space for class variables\n",
    "\n",
    "# Now we can see emp_1 has one more instance variable raise_amount\n"
   ]
  },
  {
   "cell_type": "code",
   "execution_count": 35,
   "metadata": {},
   "outputs": [
    {
     "name": "stdout",
     "output_type": "stream",
     "text": [
      "3\n"
     ]
    }
   ],
   "source": [
    "# Now let's add one more class variable number of employee\n",
    "\n",
    "class Employee:\n",
    "    \n",
    "    raise_amount=1.05\n",
    "    num_of_emp=0\n",
    "    \n",
    "    def __init__(self, first, last, pay):\n",
    "        self.first = first\n",
    "        self.last = last\n",
    "        self.email = first + '.' + last + '@email.com'\n",
    "        self.pay = pay\n",
    "        Employee.num_of_emp +=1   # Here accessing num_of_emp through Employee is better usecase as \n",
    "                                  # the number will be same irrespective of instances.\n",
    "\n",
    "    def fullname(self):\n",
    "        return '{} {}'.format(self.first, self.last)\n",
    "    \n",
    "    def apply_raise(self):\n",
    "        self.pay=int(self.pay * self.raise_amount)  # Access raise_amount through class Employee or \n",
    "                                                    # instance self. But using self is better usecase as some\n",
    "                                                    # employee can have different raise_amount\n",
    "\n",
    "emp_1 = Employee('Tom', 'Hanks', 50000)\n",
    "emp_2 = Employee('Rajat', 'Kapoor', 60000)\n",
    "emp_3 = Employee('Raj', 'Kumar', 70000)\n",
    "\n",
    "print(Employee.num_of_emp)"
   ]
  },
  {
   "cell_type": "markdown",
   "metadata": {},
   "source": [
    "## Class Methods\n",
    "\n",
    "To create a class method use decorator @classmethod above the method within the class. Class Method takes 1 arguement default as Class.\n",
    "\n",
    "Class methods have a logical connection with the class and it impacts it on class level."
   ]
  },
  {
   "cell_type": "code",
   "execution_count": 40,
   "metadata": {},
   "outputs": [
    {
     "name": "stdout",
     "output_type": "stream",
     "text": [
      "1.05\n",
      "1.05\n",
      "1.07\n",
      "1.07\n",
      "Virat.Kohli@email.com\n"
     ]
    }
   ],
   "source": [
    "class Employee:\n",
    "    \n",
    "    raise_amount=1.05\n",
    "    num_of_emp=0\n",
    "    \n",
    "    def __init__(self, first, last, pay):\n",
    "        self.first = first\n",
    "        self.last = last\n",
    "        self.email = first + '.' + last + '@email.com'\n",
    "        self.pay = pay\n",
    "        Employee.num_of_emp +=1   # Here accessing num_of_emp through Employee is better usecase as \n",
    "                                  # the number will be same irrespective of instances.\n",
    "\n",
    "    def fullname(self):\n",
    "        return '{} {}'.format(self.first, self.last)\n",
    "    \n",
    "    def apply_raise(self):\n",
    "        self.pay=int(self.pay * self.raise_amount)  # Access raise_amount through class Employee or \n",
    "                                                    # instance self. But using self is better usecase as some\n",
    "                                                    # employee can have different raise_amount\n",
    "                \n",
    "    @classmethod\n",
    "    def set_raise_amt(cls,amount):\n",
    "        cls.raise_amount=amount\n",
    "        \n",
    "    @classmethod\n",
    "    def from_string(cls,emp_str):              # we can see that classmethods can be used as alternative\n",
    "        first,last,pay=emp_str.split('-')      # constructors\n",
    "        return cls(first,last,pay)\n",
    "        \n",
    "\n",
    "emp_1 = Employee('Tom', 'Hanks', 50000)\n",
    "emp_2 = Employee('Rajat', 'Kapoor', 60000)\n",
    "\n",
    "print(Employee.raise_amount)\n",
    "print(emp_1.raise_amount)\n",
    "\n",
    "Employee.set_raise_amt(1.07)\n",
    "\n",
    "print(Employee.raise_amount)\n",
    "print(emp_1.raise_amount)\n",
    "\n",
    "emp1_str='Virat-Kohli-80000'\n",
    "new_emp=Employee.from_string(emp1_str)\n",
    "\n",
    "print(new_emp.email)\n",
    "\n",
    "\n"
   ]
  },
  {
   "cell_type": "markdown",
   "metadata": {},
   "source": [
    "## Static Methods\n",
    "\n",
    "Regular methods in class pass default arguement as self, Class methods pass default arguement as cls.\n",
    "Static method does not pass anything by default.\n",
    "\n",
    "To define a static method use @staticmethod decorator above the method name within the class.\n",
    "\n",
    "Static methods does not have a direct logical connection in a class or it does not impact anything at the class level. But it gives useful information about the class."
   ]
  },
  {
   "cell_type": "code",
   "execution_count": 55,
   "metadata": {},
   "outputs": [
    {
     "name": "stdout",
     "output_type": "stream",
     "text": [
      "It's not holiday.\n"
     ]
    }
   ],
   "source": [
    "class Employee:\n",
    "    \n",
    "    raise_amount=1.05\n",
    "    num_of_emp=0\n",
    "    \n",
    "    def __init__(self, first, last, pay):\n",
    "        self.first = first\n",
    "        self.last = last\n",
    "        self.email = first + '.' + last + '@email.com'\n",
    "        self.pay = pay\n",
    "        Employee.num_of_emp +=1   # Here accessing num_of_emp through Employee is better usecase as \n",
    "                                  # the number will be same irrespective of instances.\n",
    "\n",
    "    def fullname(self):\n",
    "        return '{} {}'.format(self.first, self.last)\n",
    "    \n",
    "    def apply_raise(self):\n",
    "        self.pay=int(self.pay * self.raise_amount)  # Access raise_amount through class Employee or \n",
    "                                                    # instance self. But using self is better usecase as some\n",
    "                                                    # employee can have different raise_amount\n",
    "                \n",
    "    @classmethod\n",
    "    def set_raise_amt(cls,amount):\n",
    "        cls.raise_amount=amount\n",
    "        \n",
    "    @classmethod\n",
    "    def from_string(cls,emp_str):              # we can see that classmethods can be used as alternative\n",
    "        first,last,pay=emp_str.split('-')      # constructors\n",
    "        return cls(first,last,pay)\n",
    "    \n",
    "    @staticmethod\n",
    "    def is_holiday(day):\n",
    "        holiday_list=[datetime.date(2019,1,1),datetime.date(2019,2,15),datetime.date(2019,5,1),\\\n",
    "                      datetime.date(2019,10,27),datetime.date(2019,12,25)]\n",
    "        if day in holiday_list:\n",
    "            return \"It's holiday.\"\n",
    "        return \"It's not holiday.\"\n",
    "        \n",
    "\n",
    "emp_1 = Employee('Tom', 'Hanks', 50000)\n",
    "emp_2 = Employee('Rajat', 'Kapoor', 60000)\n",
    "\n",
    "import datetime\n",
    "my_date=datetime.date(2019,3,21)\n",
    "print(Employee.is_holiday(my_date))\n"
   ]
  },
  {
   "cell_type": "markdown",
   "metadata": {},
   "source": [
    "# Inheritance\n",
    "\n",
    "In object-oriented programming, inheritance enables new objects to take on the properties of existing objects. A class that is used as the basis for inheritance is called a superclass or base class. A class that inherits from a superclass is called a subclass or derived class. The terms parent class and child class are also acceptable terms to use respectively. A child inherits visible properties and methods from its parent while adding additional properties and methods of its own."
   ]
  },
  {
   "cell_type": "code",
   "execution_count": 58,
   "metadata": {},
   "outputs": [
    {
     "name": "stdout",
     "output_type": "stream",
     "text": [
      "Rahul.Singh@email.com\n"
     ]
    }
   ],
   "source": [
    "class Employee:\n",
    "    \n",
    "    raise_amount=1.05\n",
    "    num_of_emp=0\n",
    "    \n",
    "    def __init__(self, first, last, pay):\n",
    "        self.first = first\n",
    "        self.last = last\n",
    "        self.email = first + '.' + last + '@email.com'\n",
    "        self.pay = pay\n",
    "        Employee.num_of_emp +=1   # Here accessing num_of_emp through Employee is better usecase as \n",
    "                                  # the number will be same irrespective of instances.\n",
    "\n",
    "    def fullname(self):\n",
    "        return '{} {}'.format(self.first, self.last)\n",
    "    \n",
    "    def apply_raise(self):\n",
    "        self.pay=int(self.pay * self.raise_amount)  \n",
    "        \n",
    "\n",
    "emp_1 = Employee('Tom', 'Hanks', 50000)\n",
    "emp_2 = Employee('Rajat', 'Kapoor', 60000)\n",
    "\n",
    "\n",
    "class Developer(Employee):\n",
    "    pass\n",
    "\n",
    "dev_1=Developer('Rahul','Singh',50000)\n",
    "print(dev_1.email)"
   ]
  },
  {
   "cell_type": "code",
   "execution_count": 59,
   "metadata": {},
   "outputs": [
    {
     "name": "stdout",
     "output_type": "stream",
     "text": [
      "Rahul.Singh@email.com\n",
      "Python\n"
     ]
    }
   ],
   "source": [
    "class Employee:\n",
    "    \n",
    "    raise_amount=1.05\n",
    "    num_of_emp=0\n",
    "    \n",
    "    def __init__(self, first, last, pay):\n",
    "        self.first = first\n",
    "        self.last = last\n",
    "        self.email = first + '.' + last + '@email.com'\n",
    "        self.pay = pay\n",
    "        Employee.num_of_emp +=1   # Here accessing num_of_emp through Employee is better usecase as \n",
    "                                  # the number will be same irrespective of instances.\n",
    "\n",
    "    def fullname(self):\n",
    "        return '{} {}'.format(self.first, self.last)\n",
    "    \n",
    "    def apply_raise(self):\n",
    "        self.pay=int(self.pay * self.raise_amount)  \n",
    "        \n",
    "\n",
    "emp_1 = Employee('Tom', 'Hanks', 50000)\n",
    "emp_2 = Employee('Rajat', 'Kapoor', 60000)\n",
    "\n",
    "\n",
    "class Developer(Employee):\n",
    "    def __init__(self, first, last, pay, skill):\n",
    "        super().__init__(first,last,pay)\n",
    "        self.skill=skill\n",
    "        \n",
    "        \n",
    "dev_1=Developer('Rahul','Singh',50000,'Python')\n",
    "\n",
    "print(dev_1.email)\n",
    "print(dev_1.skill)"
   ]
  },
  {
   "cell_type": "code",
   "execution_count": 73,
   "metadata": {},
   "outputs": [
    {
     "name": "stdout",
     "output_type": "stream",
     "text": [
      "--> Rahul Singh\n",
      "--> Rajat Kapoor\n",
      "--> Rahul Singh\n",
      "--> Tom Hanks\n"
     ]
    }
   ],
   "source": [
    "class Employee:\n",
    "    \n",
    "    raise_amount=1.05\n",
    "    num_of_emp=0\n",
    "    \n",
    "    def __init__(self, first, last, pay):\n",
    "        self.first = first\n",
    "        self.last = last\n",
    "        self.email = first + '.' + last + '@email.com'\n",
    "        self.pay = pay\n",
    "        Employee.num_of_emp +=1   # Here accessing num_of_emp through Employee is better usecase as \n",
    "                                  # the number will be same irrespective of instances.\n",
    "\n",
    "    def fullname(self):\n",
    "        return '{} {}'.format(self.first, self.last)\n",
    "    \n",
    "    def apply_raise(self):\n",
    "        self.pay=int(self.pay * self.raise_amount)  \n",
    "        \n",
    "\n",
    "class Developer(Employee):\n",
    "    def __init__(self, first, last, pay, skill):\n",
    "        super().__init__(first,last,pay)\n",
    "        self.skill=skill\n",
    "        \n",
    "class Manager(Employee):\n",
    "\n",
    "    def __init__(self, first, last, pay, employees=None):\n",
    "        super().__init__(first, last, pay)\n",
    "        if employees is None:\n",
    "            self.employees = []\n",
    "        else:\n",
    "            self.employees = employees\n",
    "\n",
    "    def add_emp(self, emp):\n",
    "        if emp not in self.employees:\n",
    "            self.employees.append(emp)\n",
    "\n",
    "    def remove_emp(self, emp):\n",
    "        if emp in self.employees:\n",
    "            self.employees.remove(emp)\n",
    "\n",
    "    def print_emps(self):\n",
    "        for emp in self.employees:\n",
    "            print('-->', emp.fullname())\n",
    "\n",
    "emp_1 = Employee('Tom', 'Hanks', 50000)\n",
    "emp_2 = Employee('Rajat', 'Kapoor', 60000)\n",
    "\n",
    "dev_1=Developer('Rahul','Singh',50000,'Python')\n",
    "\n",
    "mgr_1=Manager('MS','Dhoni',70000)\n",
    "#print(mgr_1.email)\n",
    "\n",
    "mgr_2=Manager('Virat','Kohli',90000,[dev_1])\n",
    "\n",
    "mgr_2.print_emps()\n",
    "\n",
    "mgr_2.add_emp(emp_1)\n",
    "mgr_1.add_emp(emp_2)\n",
    "\n",
    "mgr_1.print_emps()\n",
    "mgr_2.print_emps()"
   ]
  },
  {
   "cell_type": "markdown",
   "metadata": {},
   "source": [
    "# Property Decorator- Setter, Getter"
   ]
  },
  {
   "cell_type": "code",
   "execution_count": 74,
   "metadata": {},
   "outputs": [
    {
     "name": "stdout",
     "output_type": "stream",
     "text": [
      "Rajat.Kapoor@email.com\n"
     ]
    }
   ],
   "source": [
    "class Employee:\n",
    "    \n",
    "    def __init__(self, first, last, pay):\n",
    "        self.first = first\n",
    "        self.last = last\n",
    "        self.email = first + '.' + last + '@email.com'\n",
    "        self.pay = pay\n",
    "\n",
    "    def fullname(self):\n",
    "        return '{} {}'.format(self.first, self.last)\n",
    "    \n",
    "    def apply_raise(self):\n",
    "        self.pay=int(self.pay * self.raise_amount)  \n",
    "\n",
    "emp_1 = Employee('Tom', 'Hanks', 50000)\n",
    "emp_2 = Employee('Rajat', 'Kapoor', 60000)\n",
    "\n",
    "# Suppose after marriage Rajat has changed his last name\n",
    "emp_2.last='Khurana'\n",
    "\n",
    "print(emp_2.email) # still email showing old last name"
   ]
  },
  {
   "cell_type": "code",
   "execution_count": 81,
   "metadata": {},
   "outputs": [
    {
     "name": "stdout",
     "output_type": "stream",
     "text": [
      "Rajat.Khurana@email.com\n"
     ]
    },
    {
     "ename": "AttributeError",
     "evalue": "can't set attribute",
     "output_type": "error",
     "traceback": [
      "\u001b[0;31m---------------------------------------------------------------------------\u001b[0m",
      "\u001b[0;31mAttributeError\u001b[0m                            Traceback (most recent call last)",
      "\u001b[0;32m<ipython-input-81-089a7d8e8f12>\u001b[0m in \u001b[0;36m<module>\u001b[0;34m()\u001b[0m\n\u001b[1;32m     25\u001b[0m \u001b[0;34m\u001b[0m\u001b[0m\n\u001b[1;32m     26\u001b[0m \u001b[0;31m# since it's property so we can change the property from outside class itself\u001b[0m\u001b[0;34m\u001b[0m\u001b[0;34m\u001b[0m\u001b[0m\n\u001b[0;32m---> 27\u001b[0;31m \u001b[0memp_2\u001b[0m\u001b[0;34m.\u001b[0m\u001b[0memail\u001b[0m\u001b[0;34m=\u001b[0m\u001b[0;34m'Rajat.Malhotra@email.com'\u001b[0m\u001b[0;34m\u001b[0m\u001b[0m\n\u001b[0m\u001b[1;32m     28\u001b[0m \u001b[0;34m\u001b[0m\u001b[0m\n\u001b[1;32m     29\u001b[0m \u001b[0mprint\u001b[0m\u001b[0;34m(\u001b[0m\u001b[0memp_2\u001b[0m\u001b[0;34m.\u001b[0m\u001b[0mlast\u001b[0m\u001b[0;34m)\u001b[0m\u001b[0;34m\u001b[0m\u001b[0m\n",
      "\u001b[0;31mAttributeError\u001b[0m: can't set attribute"
     ]
    }
   ],
   "source": [
    "class Employee:\n",
    "    \n",
    "    def __init__(self, first, last, pay):\n",
    "        self.first = first\n",
    "        self.last = last\n",
    "        self.pay = pay\n",
    "        \n",
    "    @property    \n",
    "    def email(self):\n",
    "        return'{}.{}@email.com'.format(self.first, self.last)\n",
    "\n",
    "    def fullname(self):\n",
    "        return '{} {}'.format(self.first, self.last)\n",
    "    \n",
    "    def apply_raise(self):\n",
    "        self.pay=int(self.pay * self.raise_amount)  \n",
    "\n",
    "emp_1 = Employee('Tom', 'Hanks', 50000)\n",
    "emp_2 = Employee('Rajat', 'Kapoor', 60000)\n",
    "\n",
    "# Suppose after marriage Rajat has changed his last name\n",
    "emp_2.last='Khurana'\n",
    "\n",
    "print(emp_2.email) # We will have to change the code with parentheses.\n",
    "\n",
    "# since it's property but we can not change the property from outside class itself\n",
    "emp_2.email='Rajat.Malhotra@email.com'\n",
    "\n",
    "print(emp_2.last)"
   ]
  },
  {
   "cell_type": "code",
   "execution_count": 87,
   "metadata": {},
   "outputs": [
    {
     "name": "stdout",
     "output_type": "stream",
     "text": [
      "Rajat.Khurana@email.com\n",
      "Malhotra\n"
     ]
    }
   ],
   "source": [
    "class Employee:\n",
    "    \n",
    "    def __init__(self, first, last,pay):\n",
    "        self.first = first\n",
    "        self.last = last\n",
    "        self.pay = pay\n",
    "        \n",
    "    @property    \n",
    "    def email(self):\n",
    "        return'{}.{}@email.com'.format(self.first, self.last)\n",
    "\n",
    "    def fullname(self):\n",
    "        return '{} {}'.format(self.first, self.last)\n",
    "    \n",
    "    @email.setter\n",
    "    def email(self,email):\n",
    "        username=email.split('@')[0]\n",
    "        first,last=username.split('.')\n",
    "        self.first=first\n",
    "        self.last=last\n",
    "\n",
    "emp_1 = Employee('Tom', 'Hanks', 50000)\n",
    "emp_2 = Employee('Rajat', 'Kapoor', 60000)\n",
    "\n",
    "# Suppose after marriage Rajat has changed his last name\n",
    "emp_2.last='Khurana'\n",
    "\n",
    "print(emp_2.email) # We will have to change the code with parentheses.\n",
    "\n",
    "emp_2.email='Rajat.Malhotra@email.com'\n",
    "\n",
    "print(emp_2.last)"
   ]
  },
  {
   "cell_type": "markdown",
   "metadata": {},
   "source": [
    "# Abstract class\n",
    "\n",
    "Abstract classes are classes that contain one or more abstract methods. An abstract method is a method that is declared, but contains no implementation. Abstract classes may not be instantiated, and require subclasses to provide implementations for the abstract methods. Subclasses of an abstract class in Python are not required to implement abstract methods of the parent class."
   ]
  },
  {
   "cell_type": "code",
   "execution_count": 97,
   "metadata": {},
   "outputs": [
    {
     "name": "stdout",
     "output_type": "stream",
     "text": [
      "Tom Hanks\n",
      "Total Employees: 5\n",
      "Permanent Employees: 3\n"
     ]
    }
   ],
   "source": [
    "from abc import ABC, abstractmethod   # abc stands for abstract base classes\n",
    "\n",
    "class Person(ABC):\n",
    "    \n",
    "    def __init__(self,first,last):\n",
    "        self.first=first\n",
    "        self.last=last\n",
    "        \n",
    "        \n",
    "    @abstractmethod    \n",
    "    def calc_permanent_emp(self,emp_list=[]):\n",
    "        pass\n",
    "    \n",
    "    @abstractmethod\n",
    "    def fullname(self):\n",
    "        pass\n",
    "    \n",
    "class Employee(Person):\n",
    "    \n",
    "    num_of_emp=0\n",
    "\n",
    "    def __init__(self, first, last, isPermanent):\n",
    "        super().__init__(first,last)\n",
    "        self.isPermanent=isPermanent\n",
    "        self.email = first + '.' + last + '@email.com'\n",
    "        Employee.num_of_emp +=1\n",
    "     \n",
    "    def calc_permanent_emp(self,emp_list=[]):\n",
    "        perm_emp=0\n",
    "        for emp in emp_list:\n",
    "            if emp.isPermanent==True:\n",
    "                perm_emp +=1\n",
    "        return perm_emp        \n",
    "        \n",
    "\n",
    "    def fullname(self):\n",
    "        return '{} {}'.format(self.first, self.last)\n",
    "\n",
    "emp_1 = Employee('Tom', 'Hanks', True)\n",
    "emp_2 = Employee('Rajat', 'Kapoor', False)\n",
    "emp_3 = Employee('Raj', 'Kumar', False)\n",
    "emp_4 = Employee('Amit', 'Sharma', True)\n",
    "emp_5 = Employee('Sumit', 'Singh', True)\n",
    "\n",
    "\n",
    "print(emp_1.fullname())\n",
    "print('Total Employees:',Employee.num_of_emp)\n",
    "print('Permanent Employees:', emp_1.calc_permanent_emp([emp_1,emp_2,emp_3,emp_4,emp_5]))\n",
    "\n",
    "# per_1=Person('Ankur','Srivastava')\n",
    "    "
   ]
  },
  {
   "cell_type": "markdown",
   "metadata": {},
   "source": [
    "# Inner Class"
   ]
  },
  {
   "cell_type": "markdown",
   "metadata": {},
   "source": [
    "Class inside a class is Inner or Nested class. The members of an enclosing class have no special access to members of a nested class. The usual access rule will be obeyed."
   ]
  },
  {
   "cell_type": "code",
   "execution_count": 108,
   "metadata": {},
   "outputs": [
    {
     "name": "stdout",
     "output_type": "stream",
     "text": [
      "Tom Hanks\n",
      "Address: 1080,JP Nagar,Bangalore,560037\n"
     ]
    }
   ],
   "source": [
    "class Employee:\n",
    "\n",
    "    def __init__(self, first, last, pay):\n",
    "        self.first = first\n",
    "        self.last = last\n",
    "        self.email = first + '.' + last + '@email.com'\n",
    "        self.pay = pay\n",
    "        self.add_1=self.Address()\n",
    "\n",
    "    def fullname(self):\n",
    "        return '{} {}'.format(self.first, self.last)\n",
    "    \n",
    "    class Address:\n",
    "        \n",
    "        def set_address(self,houseno,street,city,pincode):\n",
    "            self.houseno=houseno\n",
    "            self.street=street\n",
    "            self.city=city\n",
    "            self.pincode=pincode\n",
    "            \n",
    "        def showAddress(self):\n",
    "            return '{},{},{},{}'.format(self.houseno, self.street,self.city, self.pincode)\n",
    "            \n",
    "    \n",
    "    def set_address(self,houseno,street,city,pincode):\n",
    "        self.add_1.set_address(houseno,street,city,pincode)\n",
    "        \n",
    "    \n",
    "    def emp_info(self):\n",
    "        print('{} {}'.format(self.first, self.last))\n",
    "        print('Address:',self.add_1.showAddress())\n",
    "        \n",
    "\n",
    "emp_1 = Employee('Tom', 'Hanks', 50000)\n",
    "emp_2 = Employee('Rajat', 'Kapoor', 60000)\n",
    "\n",
    "emp_1.set_address('1080','JP Nagar','Bangalore','560037')\n",
    "\n",
    "emp_1.emp_info()"
   ]
  },
  {
   "cell_type": "markdown",
   "metadata": {},
   "source": [
    "# Polymorphism"
   ]
  },
  {
   "cell_type": "code",
   "execution_count": null,
   "metadata": {},
   "outputs": [],
   "source": []
  }
 ],
 "metadata": {
  "kernelspec": {
   "display_name": "Python 3",
   "language": "python",
   "name": "python3"
  },
  "language_info": {
   "codemirror_mode": {
    "name": "ipython",
    "version": 3
   },
   "file_extension": ".py",
   "mimetype": "text/x-python",
   "name": "python",
   "nbconvert_exporter": "python",
   "pygments_lexer": "ipython3",
   "version": "3.6.4"
  }
 },
 "nbformat": 4,
 "nbformat_minor": 2
}
