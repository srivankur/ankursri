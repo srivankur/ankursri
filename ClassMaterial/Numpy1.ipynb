{
 "cells": [
  {
   "cell_type": "code",
   "execution_count": 1,
   "metadata": {},
   "outputs": [],
   "source": [
    "#Create Numpy Array"
   ]
  },
  {
   "cell_type": "code",
   "execution_count": 2,
   "metadata": {},
   "outputs": [],
   "source": [
    "from numpy import array"
   ]
  },
  {
   "cell_type": "code",
   "execution_count": 10,
   "metadata": {},
   "outputs": [
    {
     "data": {
      "text/plain": [
       "list"
      ]
     },
     "execution_count": 10,
     "metadata": {},
     "output_type": "execute_result"
    }
   ],
   "source": [
    "l=[1.0,2.0,3.0]\n",
    "type(l)"
   ]
  },
  {
   "cell_type": "code",
   "execution_count": 5,
   "metadata": {},
   "outputs": [],
   "source": [
    "a=array(l)"
   ]
  },
  {
   "cell_type": "code",
   "execution_count": 9,
   "metadata": {},
   "outputs": [
    {
     "data": {
      "text/plain": [
       "dtype('float64')"
      ]
     },
     "execution_count": 9,
     "metadata": {},
     "output_type": "execute_result"
    }
   ],
   "source": [
    "a\n",
    "a.dtype"
   ]
  },
  {
   "cell_type": "code",
   "execution_count": 8,
   "metadata": {},
   "outputs": [
    {
     "data": {
      "text/plain": [
       "(3,)"
      ]
     },
     "execution_count": 8,
     "metadata": {},
     "output_type": "execute_result"
    }
   ],
   "source": [
    "type(a)\n",
    "a.shape"
   ]
  },
  {
   "cell_type": "code",
   "execution_count": 17,
   "metadata": {},
   "outputs": [],
   "source": [
    "#functions to create Arrays\n",
    "# 1. Empty\n",
    "# 2. Zeros\n",
    "# 3. Ones"
   ]
  },
  {
   "cell_type": "code",
   "execution_count": 15,
   "metadata": {},
   "outputs": [],
   "source": [
    "#create empty array\n",
    "from numpy import empty\n",
    "a=empty([3,2])"
   ]
  },
  {
   "cell_type": "code",
   "execution_count": 16,
   "metadata": {},
   "outputs": [
    {
     "data": {
      "text/plain": [
       "array([[6.91509441e-310, 4.68790688e-310],\n",
       "       [0.00000000e+000, 0.00000000e+000],\n",
       "       [0.00000000e+000, 0.00000000e+000]])"
      ]
     },
     "execution_count": 16,
     "metadata": {},
     "output_type": "execute_result"
    }
   ],
   "source": [
    "a"
   ]
  },
  {
   "cell_type": "code",
   "execution_count": 19,
   "metadata": {},
   "outputs": [
    {
     "data": {
      "text/plain": [
       "array([[0., 0., 0., 0., 0.],\n",
       "       [0., 0., 0., 0., 0.],\n",
       "       [0., 0., 0., 0., 0.]])"
      ]
     },
     "execution_count": 19,
     "metadata": {},
     "output_type": "execute_result"
    }
   ],
   "source": [
    "#create zero array\n",
    "from numpy import zeros\n",
    "a=zeros([3,5])\n",
    "a"
   ]
  },
  {
   "cell_type": "code",
   "execution_count": 24,
   "metadata": {},
   "outputs": [
    {
     "data": {
      "text/plain": [
       "array([[1., 1., 1., 1.],\n",
       "       [1., 1., 1., 1.],\n",
       "       [1., 1., 1., 1.]])"
      ]
     },
     "execution_count": 24,
     "metadata": {},
     "output_type": "execute_result"
    }
   ],
   "source": [
    "#create one array\n",
    "from numpy import ones\n",
    "a=ones((3,4))\n",
    "a"
   ]
  },
  {
   "cell_type": "code",
   "execution_count": 23,
   "metadata": {},
   "outputs": [
    {
     "data": {
      "text/plain": [
       "array([1., 1., 1.])"
      ]
     },
     "execution_count": 23,
     "metadata": {},
     "output_type": "execute_result"
    }
   ],
   "source": [
    "b=ones(3)\n",
    "b"
   ]
  },
  {
   "cell_type": "code",
   "execution_count": 25,
   "metadata": {},
   "outputs": [],
   "source": [
    "#Combining Arrays\n",
    "# 1. Vertical Stack\n",
    "# 2. Horizontal Stack"
   ]
  },
  {
   "cell_type": "code",
   "execution_count": 38,
   "metadata": {},
   "outputs": [
    {
     "data": {
      "text/plain": [
       "array([[1, 4, 6, 7],\n",
       "       [3, 1, 6, 2],\n",
       "       [2, 5, 8, 3]])"
      ]
     },
     "execution_count": 38,
     "metadata": {},
     "output_type": "execute_result"
    }
   ],
   "source": [
    "#create array with vstack\n",
    "from numpy import array\n",
    "from numpy import vstack\n",
    "#first array\n",
    "a1=array([[1,4,6,7],\n",
    "          [3,1,6,2]])\n",
    "#second array\n",
    "a2=array([2,5,8,3])\n",
    "#vertical stack\n",
    "a3=vstack((a1,a2))\n",
    "a3"
   ]
  },
  {
   "cell_type": "code",
   "execution_count": 31,
   "metadata": {},
   "outputs": [
    {
     "data": {
      "text/plain": [
       "(4,)"
      ]
     },
     "execution_count": 31,
     "metadata": {},
     "output_type": "execute_result"
    }
   ],
   "source": [
    "a1.shape"
   ]
  },
  {
   "cell_type": "code",
   "execution_count": 32,
   "metadata": {},
   "outputs": [
    {
     "data": {
      "text/plain": [
       "(2, 4)"
      ]
     },
     "execution_count": 32,
     "metadata": {},
     "output_type": "execute_result"
    }
   ],
   "source": [
    "a3.shape"
   ]
  },
  {
   "cell_type": "code",
   "execution_count": 37,
   "metadata": {},
   "outputs": [
    {
     "data": {
      "text/plain": [
       "array([[1, 4, 6, 7, 2, 5, 8],\n",
       "       [1, 2, 3, 4, 4, 3, 5]])"
      ]
     },
     "execution_count": 37,
     "metadata": {},
     "output_type": "execute_result"
    }
   ],
   "source": [
    "#create array with hstack\n",
    "from numpy import array\n",
    "from numpy import hstack\n",
    "#first array\n",
    "a1=array([[1,4,6,7],\n",
    "          [1,2,3,4]])\n",
    "#second array\n",
    "a2=array([[2,5,8],\n",
    "          [4,3,5]])\n",
    "#horizontal stack\n",
    "a3=hstack((a1,a2))\n",
    "a3"
   ]
  },
  {
   "cell_type": "code",
   "execution_count": 50,
   "metadata": {},
   "outputs": [
    {
     "name": "stdout",
     "output_type": "stream",
     "text": [
      "55\n",
      "11\n",
      "[22 33]\n",
      "[33 44 55]\n",
      "[22 33]\n"
     ]
    }
   ],
   "source": [
    "#Array one dimensional indexing\n",
    "from numpy import array\n",
    "# define array\n",
    "data = array([11, 22, 33, 44, 55])\n",
    "# index data\n",
    "print(data[-1])\n",
    "print(data[-5])\n",
    "print(data[1:3])\n",
    "print(data[-3:])\n",
    "print(data[-4:-2])"
   ]
  },
  {
   "cell_type": "code",
   "execution_count": 55,
   "metadata": {},
   "outputs": [
    {
     "name": "stdout",
     "output_type": "stream",
     "text": [
      "11\n",
      "[11 22]\n",
      "[11 33 55]\n",
      "55\n",
      "[[33 44]\n",
      " [55 66]]\n"
     ]
    }
   ],
   "source": [
    "# index two-dimensional array\n",
    "from numpy import array\n",
    "# define array\n",
    "data = array([\n",
    "[11, 22],\n",
    "[33, 44],\n",
    "[55, 66]])\n",
    "# index data\n",
    "print(data[0,0])\n",
    "print(data[0,:])\n",
    "print(data[:,0])\n",
    "print(data[-1,0])\n",
    "print(data[-2:,:])"
   ]
  },
  {
   "cell_type": "code",
   "execution_count": 59,
   "metadata": {},
   "outputs": [],
   "source": [
    "#two dimensional array slicing usage\n",
    "# 1. Split Input and Output Features\n",
    "# 2. Split Train and Test Rows"
   ]
  },
  {
   "cell_type": "code",
   "execution_count": 57,
   "metadata": {},
   "outputs": [],
   "source": [
    "#Split input and Output Features"
   ]
  },
  {
   "cell_type": "markdown",
   "metadata": {},
   "source": [
    "It is common to split your loaded data into input variables (X) and the output variable (y). We\n",
    "can do this by slicing all rows and all columns up to, but before the last column, then separately\n",
    "indexing the last column. For the input features, we can select all rows and all columns except\n",
    "the last one by specifying : for in the rows index, and :-1 in the columns index.\n",
    "\n",
    "X=[:,:-1]\n",
    "\n",
    "For the output column, we can select all rows again using : and index just the last column\n",
    "by specifying the -1 index.\n",
    "\n",
    "Y=[:,-1]"
   ]
  },
  {
   "cell_type": "code",
   "execution_count": 58,
   "metadata": {},
   "outputs": [
    {
     "name": "stdout",
     "output_type": "stream",
     "text": [
      "[[11 22]\n",
      " [44 55]\n",
      " [77 88]]\n",
      "[33 66 99]\n"
     ]
    }
   ],
   "source": [
    "from numpy import array\n",
    "# define array\n",
    "data = array([\n",
    "[11, 22, 33],\n",
    "[44, 55, 66],\n",
    "[77, 88, 99]])\n",
    "X,y=data[:,:-1], data[:,-1]\n",
    "print(X)\n",
    "print(y)"
   ]
  },
  {
   "cell_type": "code",
   "execution_count": 60,
   "metadata": {},
   "outputs": [],
   "source": [
    "#Split Train and Test Rows"
   ]
  },
  {
   "cell_type": "markdown",
   "metadata": {},
   "source": [
    "It is common to split a loaded dataset into separate train and test sets. This is a splitting of\n",
    "rows where some portion will be used to train the model and the remaining portion will be used\n",
    "to estimate the skill of the trained model. This would involve slicing all columns by specifying :\n",
    "in the second dimension index. The training dataset would be all rows from the beginning to\n",
    "the split point.\n",
    "\n",
    "\n",
    "train = data[:split, :]\n",
    "\n",
    "The test dataset would be all rows starting from the split point to the end of the dimension.\n",
    "\n",
    "test = data[split:, :]\n"
   ]
  },
  {
   "cell_type": "code",
   "execution_count": 61,
   "metadata": {},
   "outputs": [
    {
     "name": "stdout",
     "output_type": "stream",
     "text": [
      "[[11 22 33]\n",
      " [44 55 66]]\n",
      "[[77 88 99]]\n"
     ]
    }
   ],
   "source": [
    "# split train and test data\n",
    "from numpy import array\n",
    "# define array\n",
    "data = array([\n",
    "[11, 22, 33],\n",
    "[44, 55, 66],\n",
    "[77, 88, 99]])\n",
    "# separate data\n",
    "split = 2\n",
    "train,test=data[:split,:],data[split:,:]\n",
    "print(train)\n",
    "print(test)"
   ]
  },
  {
   "cell_type": "code",
   "execution_count": 62,
   "metadata": {},
   "outputs": [],
   "source": [
    "#Array Reshaping\n",
    "# 1. Data Shape\n",
    "# 2. Reshape 1D to 2D array\n",
    "# 3. Reshape 2D to 3D array"
   ]
  },
  {
   "cell_type": "code",
   "execution_count": 63,
   "metadata": {},
   "outputs": [
    {
     "name": "stdout",
     "output_type": "stream",
     "text": [
      "(5,)\n",
      "(3, 2)\n"
     ]
    }
   ],
   "source": [
    "#Data Shape\n",
    "# shape of one-dimensional array\n",
    "from numpy import array\n",
    "# define array\n",
    "data = array([11, 22, 33, 44, 55])\n",
    "print(data.shape)\n",
    "\n",
    "# shape of a two-dimensional array\n",
    "from numpy import array\n",
    "# list of data\n",
    "data = [[11, 22],\n",
    "[33, 44],\n",
    "[55, 66]]\n",
    "# array of data\n",
    "data = array(data)\n",
    "print(data.shape)"
   ]
  },
  {
   "cell_type": "code",
   "execution_count": 65,
   "metadata": {},
   "outputs": [
    {
     "name": "stdout",
     "output_type": "stream",
     "text": [
      " Rows: 3 \n",
      " Cols: 2 \n"
     ]
    }
   ],
   "source": [
    "# row and column shape of two-dimensional array\n",
    "from numpy import array\n",
    "# list of data\n",
    "data = [[11, 22],\n",
    "        [33, 44],\n",
    "        [55, 66]]\n",
    "# array of data\n",
    "data = array(data)\n",
    "print( ' Rows: %d ' % data.shape[0])\n",
    "print( ' Cols: %d ' % data.shape[1])"
   ]
  },
  {
   "cell_type": "code",
   "execution_count": 76,
   "metadata": {},
   "outputs": [
    {
     "name": "stdout",
     "output_type": "stream",
     "text": [
      "(5,)\n",
      "[[11]\n",
      " [22]\n",
      " [33]\n",
      " [44]\n",
      " [55]]\n",
      "(5, 1)\n"
     ]
    }
   ],
   "source": [
    "#Reshape 1D to 2D array\n",
    "# data = data.reshape((data.shape[0], 1))\n",
    "\n",
    "# reshape 1D array to 2D\n",
    "from numpy import array\n",
    "# define array\n",
    "data = array([11, 22, 33, 44, 55])\n",
    "print(data.shape)\n",
    "# reshape\n",
    "data = data.reshape((data.shape[0], 1)) #arguement is a tuple\n",
    "print(data)\n",
    "print(data.shape)"
   ]
  },
  {
   "cell_type": "code",
   "execution_count": 78,
   "metadata": {},
   "outputs": [
    {
     "name": "stdout",
     "output_type": "stream",
     "text": [
      "(3, 2)\n",
      "[[[11]\n",
      "  [22]]\n",
      "\n",
      " [[33]\n",
      "  [44]]\n",
      "\n",
      " [[55]\n",
      "  [66]]]\n",
      "(3, 2, 1)\n"
     ]
    }
   ],
   "source": [
    "#Reshape 2D to 3D array\n",
    "#data.reshape((data.shape[0], data.shape[1], 1))\n",
    "\n",
    "# reshape 2D array to 3D\n",
    "from numpy import array\n",
    "# list of data\n",
    "data = [[11, 22],\n",
    "[33, 44],\n",
    "[55, 66]]\n",
    "# array of data\n",
    "data = array(data)\n",
    "print(data.shape)\n",
    "# reshape\n",
    "data = data.reshape((data.shape[0], data.shape[1], 1))  #arguement is a tuple\n",
    "print(data)\n",
    "print(data.shape)"
   ]
  },
  {
   "cell_type": "code",
   "execution_count": 79,
   "metadata": {},
   "outputs": [],
   "source": [
    "#Numpy Array Broadcasting"
   ]
  },
  {
   "cell_type": "markdown",
   "metadata": {},
   "source": [
    "Arrays with different sizes cannot be added, subtracted, or generally be used in arithmetic. A\n",
    "way to overcome this is to duplicate the smaller array so that it has the dimensionality and\n",
    "size as the larger array. This is called array broadcasting and is available in NumPy when\n",
    "performing array arithmetic, which can greatly reduce and simplify your code."
   ]
  },
  {
   "cell_type": "code",
   "execution_count": 80,
   "metadata": {},
   "outputs": [],
   "source": [
    "#Broadcasting in Numpy"
   ]
  },
  {
   "cell_type": "markdown",
   "metadata": {},
   "source": [
    "# Scalar and One dimensional Array\n",
    "\n",
    "  a=[a1,a2,a3]\n",
    "  \n",
    "  b\n",
    "  \n",
    "The scalar will need to be broadcast across the one-dimensional array by duplicating the\n",
    "value it 2 more times.\n",
    "  b=[b1,b2,b3]\n",
    "  \n",
    " The two one-dimensional arrays can then be added directly\n",
    " \n",
    " c=a+b\n",
    " \n",
    " c=[a1+b1,a2+b2,a3+b3]\n",
    " "
   ]
  },
  {
   "cell_type": "code",
   "execution_count": 81,
   "metadata": {},
   "outputs": [
    {
     "name": "stdout",
     "output_type": "stream",
     "text": [
      "[1 2 4]\n",
      "2\n",
      "[3 4 6]\n"
     ]
    }
   ],
   "source": [
    "#broadcast scalar to one-dimensional array\n",
    "from numpy import array\n",
    "a=array([1,2,4])\n",
    "print(a)\n",
    "#define scalar\n",
    "b=2\n",
    "print(b)\n",
    "#broadcast b\n",
    "c=a+b\n",
    "print(c)"
   ]
  },
  {
   "cell_type": "markdown",
   "metadata": {},
   "source": [
    "# Scalar and two-dimensional array\n",
    "\n",
    "a=[[a11,a12,a13],\n",
    "   [a21,a22,a23]]\n",
    "\n",
    "The scalar will need to be broadcast across each row of the two-dimensional array by\n",
    "duplicating it 5 more times.\n",
    "\n",
    "b=[[b11,b12,b13],\n",
    "    [b21,b22,b23]]\n",
    "\n",
    "The two two-dimensional arrays can then be added directly.\n",
    "\n",
    "c=a+b\n",
    "\n",
    "c=[[a11+b11,a12+b12,a13,b13],\n",
    "   [a21+b21,a22+b22,a23+b23]]\n"
   ]
  },
  {
   "cell_type": "code",
   "execution_count": 82,
   "metadata": {},
   "outputs": [
    {
     "name": "stdout",
     "output_type": "stream",
     "text": [
      "[[1 3 5]\n",
      " [2 4 6]]\n",
      "2\n",
      "[[3 5 7]\n",
      " [4 6 8]]\n"
     ]
    }
   ],
   "source": [
    "#broadcast scalar to two-dimensional array\n",
    "from numpy import array\n",
    "#define array\n",
    "a=array([[1,3,5],\n",
    "        [2,4,6]])\n",
    "print(a)\n",
    "#define scalar\n",
    "b=2\n",
    "print(b)\n",
    "#broadcast b\n",
    "c=a+b\n",
    "print(c)"
   ]
  },
  {
   "cell_type": "markdown",
   "metadata": {},
   "source": [
    "# One dimensional and two dimensional arrays"
   ]
  },
  {
   "cell_type": "markdown",
   "metadata": {},
   "source": [
    "a=[[a11,a12,a13],\n",
    "   [a21,a22,a23]]\n",
    "\n",
    "one dimensional array b=([b1,b2,b3])\n",
    "\n",
    "The one-dimensional array is broadcast across each row of the two-dimensional array by\n",
    "creating a second copy to result in a new two-dimensional array B.\n",
    "\n",
    "\n",
    "b=[[b11,b12,b13],\n",
    "    [b21,b22,b23]]\n",
    "\n",
    "The two two-dimensional arrays can then be added directly.\n",
    "\n",
    "c=a+b\n",
    "\n",
    "c=[[a11+b11,a12+b12,a13,b13],\n",
    "   [a21+b21,a22+b22,a23+b23]]"
   ]
  },
  {
   "cell_type": "code",
   "execution_count": 84,
   "metadata": {},
   "outputs": [
    {
     "name": "stdout",
     "output_type": "stream",
     "text": [
      "[[1 2 3]\n",
      " [4 5 6]]\n",
      "[2 3 4]\n",
      "[[ 3  5  7]\n",
      " [ 6  8 10]]\n"
     ]
    }
   ],
   "source": [
    "# broadcast one-dimensional array to two-dimensional array\n",
    "from numpy import array\n",
    "# define two-dimensional array\n",
    "A = array([\n",
    "[1, 2, 3],\n",
    "[4, 5, 6]])\n",
    "print(A)\n",
    "# define one-dimensional array\n",
    "b = array([2, 3, 4])\n",
    "print(b)\n",
    "# broadcast\n",
    "C = A + b\n",
    "print(C)"
   ]
  },
  {
   "cell_type": "code",
   "execution_count": null,
   "metadata": {},
   "outputs": [],
   "source": []
  }
 ],
 "metadata": {
  "kernelspec": {
   "display_name": "Python 3",
   "language": "python",
   "name": "python3"
  },
  "language_info": {
   "codemirror_mode": {
    "name": "ipython",
    "version": 3
   },
   "file_extension": ".py",
   "mimetype": "text/x-python",
   "name": "python",
   "nbconvert_exporter": "python",
   "pygments_lexer": "ipython3",
   "version": "3.6.4"
  }
 },
 "nbformat": 4,
 "nbformat_minor": 2
}
