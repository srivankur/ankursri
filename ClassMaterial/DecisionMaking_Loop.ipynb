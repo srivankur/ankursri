{
 "cells": [
  {
   "cell_type": "markdown",
   "metadata": {},
   "source": [
    "# If-Else\n",
    "\n",
    "Sometimes in a program we want to make a decision based on a condition. If the condition is true we will execute this block of statements otherwise another block of statements."
   ]
  },
  {
   "cell_type": "code",
   "execution_count": 1,
   "metadata": {},
   "outputs": [
    {
     "name": "stdout",
     "output_type": "stream",
     "text": [
      "I don't care\n"
     ]
    }
   ],
   "source": [
    "# check condition\n",
    "\n",
    "if False:\n",
    "    print('This is correct')\n",
    "print('I don\\'t care')    "
   ]
  },
  {
   "cell_type": "code",
   "execution_count": 3,
   "metadata": {},
   "outputs": [
    {
     "name": "stdout",
     "output_type": "stream",
     "text": [
      "Enter any Integer:12\n",
      "Number is even\n",
      "Program Ends!\n"
     ]
    }
   ],
   "source": [
    "# Suppose we have to check if a number is even or odd\n",
    "\n",
    "num=int(input('Enter any Integer:'))\n",
    "\n",
    "if num%2==0:\n",
    "    print('Number is even')\n",
    "else:    \n",
    "    print('Number is odd')    \n",
    "print('Program Ends!')    "
   ]
  },
  {
   "cell_type": "code",
   "execution_count": 7,
   "metadata": {},
   "outputs": [],
   "source": [
    "# give program if the input string has length more than 5 then print string else print message \"string is short\""
   ]
  },
  {
   "cell_type": "code",
   "execution_count": 8,
   "metadata": {},
   "outputs": [],
   "source": [
    "# check if the input is int then print 'Correct' else print 'Incorrect'"
   ]
  },
  {
   "cell_type": "code",
   "execution_count": 6,
   "metadata": {},
   "outputs": [
    {
     "data": {
      "text/plain": [
       "int"
      ]
     },
     "execution_count": 6,
     "metadata": {},
     "output_type": "execute_result"
    }
   ],
   "source": [
    "num=5\n",
    "type(num)"
   ]
  },
  {
   "cell_type": "markdown",
   "metadata": {},
   "source": [
    "## Chained If-else\n",
    "\n",
    "Sometimes we need to take decisions one after another. This is called chained or ladder of if-else."
   ]
  },
  {
   "cell_type": "code",
   "execution_count": 10,
   "metadata": {},
   "outputs": [
    {
     "name": "stdout",
     "output_type": "stream",
     "text": [
      "Program starts!\n",
      "Enter any number:2\n",
      "Input is not correct\n",
      "Program Ends!\n"
     ]
    }
   ],
   "source": [
    "print('Program starts!')\n",
    "num=int(input('Enter any number:'))\n",
    "if num > 5:\n",
    "    print('Input is fine')\n",
    "\n",
    "elif num >3:\n",
    "    print('Input is okay')\n",
    "\n",
    "else:\n",
    "    print('Input is not correct')    \n",
    "print('Program Ends!')    \n",
    "    "
   ]
  },
  {
   "cell_type": "markdown",
   "metadata": {},
   "source": [
    "## Nested if-else\n",
    "\n",
    "When we write if/if-else within if or else then its called nested if-else"
   ]
  },
  {
   "cell_type": "code",
   "execution_count": 13,
   "metadata": {},
   "outputs": [
    {
     "name": "stdout",
     "output_type": "stream",
     "text": [
      "Enter any Integer:5\n",
      "Number is odd\n",
      "Program Ends!\n"
     ]
    }
   ],
   "source": [
    "num=int(input('Enter any Integer:'))\n",
    "\n",
    "if num%2==0:\n",
    "    print('Number is even')\n",
    "    if num%4==0:\n",
    "        print('Input is awesome')    \n",
    "else:    \n",
    "    print('Number is odd')    \n",
    "print('Program Ends!')    "
   ]
  },
  {
   "cell_type": "markdown",
   "metadata": {},
   "source": [
    "# Loops\n",
    "\n",
    "Sometimes in a program you have to repeat the statements. Meant to say same kind of processing you have to apply on your input list. Then instead of writing same code again and again we use loops."
   ]
  },
  {
   "cell_type": "markdown",
   "metadata": {},
   "source": [
    "## while loop\n",
    "\n",
    "A while loop in python iterates till its condition becomes False. In other words, it executes the statements under itself while the condition it takes is True."
   ]
  },
  {
   "cell_type": "code",
   "execution_count": 14,
   "metadata": {},
   "outputs": [
    {
     "name": "stdout",
     "output_type": "stream",
     "text": [
      "Program starts!\n",
      "Enter city name: Delhi\n",
      "Enter city name: Mumbai\n",
      "Enter city name: Goa\n",
      "Enter city name: Panji\n",
      "Enter city name: Shimla\n",
      "Enter city name: Bangalore\n",
      "Right city\n"
     ]
    }
   ],
   "source": [
    "print('Program starts!')\n",
    "city=input('Enter city name: ')\n",
    "while city !='Bangalore':\n",
    "    city=input('Enter city name: ')\n",
    "print('Right city')    "
   ]
  },
  {
   "cell_type": "code",
   "execution_count": 16,
   "metadata": {},
   "outputs": [
    {
     "name": "stdout",
     "output_type": "stream",
     "text": [
      "Program starts!\n",
      "Enter city name: Delhi\n",
      "Enter city name: Bangalore\n",
      "Right city\n",
      "Carry on\n"
     ]
    }
   ],
   "source": [
    "print('Program starts!')\n",
    "city=input('Enter city name: ')\n",
    "while city !='Bangalore':\n",
    "    city=input('Enter city name: ')\n",
    "else:    \n",
    "    print('Right city') \n",
    "print('Carry on')    "
   ]
  },
  {
   "cell_type": "code",
   "execution_count": 17,
   "metadata": {},
   "outputs": [
    {
     "name": "stdout",
     "output_type": "stream",
     "text": [
      "programmming starts\n",
      "enter a number:4\n",
      "enter again:5\n",
      "enter again:6\n",
      "enter again:10\n",
      "right number\n",
      "program ends\n"
     ]
    }
   ],
   "source": [
    "print(\"programmming starts\")\n",
    "num=int(input(\"enter a number:\"))\n",
    "while num<10:\n",
    "    num=int(input(\"enter again:\"))\n",
    "else:\n",
    "    print(\"right number\")\n",
    "print(\"program ends\")    "
   ]
  },
  {
   "cell_type": "markdown",
   "metadata": {},
   "source": [
    "## for loop\n",
    "\n",
    "for loop can iterate over a sequence of items."
   ]
  },
  {
   "cell_type": "code",
   "execution_count": 20,
   "metadata": {},
   "outputs": [
    {
     "name": "stdout",
     "output_type": "stream",
     "text": [
      "2\n",
      "5\n",
      "8\n",
      "11\n",
      "19\n"
     ]
    }
   ],
   "source": [
    "num=[2,5,8,11,19]\n",
    "\n",
    "for i in num:\n",
    "    print(i)"
   ]
  },
  {
   "cell_type": "code",
   "execution_count": 21,
   "metadata": {},
   "outputs": [
    {
     "name": "stdout",
     "output_type": "stream",
     "text": [
      "3\n",
      "5\n",
      "7\n",
      "9\n"
     ]
    }
   ],
   "source": [
    "for i in range(3,10,2):\n",
    "    print(i)"
   ]
  },
  {
   "cell_type": "code",
   "execution_count": 22,
   "metadata": {},
   "outputs": [
    {
     "name": "stdout",
     "output_type": "stream",
     "text": [
      "Monday\n",
      "Tueday\n",
      "Wedday\n",
      "Sunday\n"
     ]
    }
   ],
   "source": [
    "days=['Mon','Tue','Wed','Sun']\n",
    "\n",
    "for day in days:\n",
    "    print(day+'day')"
   ]
  },
  {
   "cell_type": "code",
   "execution_count": 23,
   "metadata": {},
   "outputs": [
    {
     "name": "stdout",
     "output_type": "stream",
     "text": [
      "2\n",
      "6\n",
      "22\n",
      "18\n",
      "20\n",
      "34\n"
     ]
    }
   ],
   "source": [
    "nums=[2,3,6,1,19,21,22,18,20,34,23]\n",
    "\n",
    "for i in nums:\n",
    "    if i%2==0:\n",
    "        print(i)"
   ]
  },
  {
   "cell_type": "code",
   "execution_count": 29,
   "metadata": {},
   "outputs": [
    {
     "name": "stdout",
     "output_type": "stream",
     "text": [
      "63\n",
      "34\n",
      "24\n"
     ]
    }
   ],
   "source": [
    "num=[23,63,18,21,34,24]\n",
    "\n",
    "for i in range(len(num)):\n",
    "    val=True\n",
    "    for j in range(i+1,len(num)):\n",
    "        if num[i] > num[j]:\n",
    "            val=True\n",
    "        else:\n",
    "            val=False\n",
    "            break\n",
    "    if val==True:\n",
    "        print(num[i])"
   ]
  },
  {
   "cell_type": "code",
   "execution_count": 4,
   "metadata": {},
   "outputs": [
    {
     "name": "stdout",
     "output_type": "stream",
     "text": [
      "78\n",
      "12\n"
     ]
    }
   ],
   "source": [
    "def func_greater(num):\n",
    "    for i in range(len(num)):\n",
    "        val=True\n",
    "        for j in range(i+1,len(num)):\n",
    "            if num[i] > num[j]:\n",
    "                val=True\n",
    "            else:\n",
    "                val=False\n",
    "                break\n",
    "        if val==True:\n",
    "            print(num[i])\n",
    "        \n",
    "func_greater([23,21,34,65,45,78,12])        "
   ]
  },
  {
   "cell_type": "code",
   "execution_count": 5,
   "metadata": {},
   "outputs": [
    {
     "name": "stdout",
     "output_type": "stream",
     "text": [
      "67\n"
     ]
    }
   ],
   "source": [
    "func_greater([13,23,45,21,67])"
   ]
  },
  {
   "cell_type": "code",
   "execution_count": null,
   "metadata": {},
   "outputs": [],
   "source": []
  }
 ],
 "metadata": {
  "kernelspec": {
   "display_name": "Python 3",
   "language": "python",
   "name": "python3"
  },
  "language_info": {
   "codemirror_mode": {
    "name": "ipython",
    "version": 3
   },
   "file_extension": ".py",
   "mimetype": "text/x-python",
   "name": "python",
   "nbconvert_exporter": "python",
   "pygments_lexer": "ipython3",
   "version": "3.6.4"
  }
 },
 "nbformat": 4,
 "nbformat_minor": 2
}
