{
 "cells": [
  {
   "cell_type": "code",
   "execution_count": 1,
   "metadata": {},
   "outputs": [],
   "source": [
    "import numpy as np\n",
    "import matplotlib\n",
    "import matplotlib.pyplot as plt\n",
    "from matplotlib import style\n",
    "import pandas as pd"
   ]
  },
  {
   "cell_type": "code",
   "execution_count": 3,
   "metadata": {},
   "outputs": [
    {
     "name": "stdout",
     "output_type": "stream",
     "text": [
      "24\n",
      "24\n"
     ]
    }
   ],
   "source": [
    "# Linear regression using two dimensional data\n",
    "xs=[2,3,4,5,6,7,8,9,10,11,12,13,14,15,16,17,18,19,20,21,22,23,24,25]\n",
    "ys=[10,12,20,22,21,25,30,21,32,34,35,30,50,45,55,50,66,64,67,72,74,80,79,84]\n",
    "print(len(xs))\n",
    "print(len(ys))"
   ]
  },
  {
   "cell_type": "code",
   "execution_count": 4,
   "metadata": {},
   "outputs": [
    {
     "data": {
      "image/png": "[encoded data removed]",
      "text/plain": [
       "<Figure size 432x288 with 1 Axes>"
      ]
     },
     "metadata": {},
     "output_type": "display_data"
    }
   ],
   "source": [
    "plt.scatter(xs,ys)\n",
    "plt.ylabel('dependent variable')\n",
    "plt.xlabel('independent variable')\n",
    "plt.show()"
   ]
  },
  {
   "cell_type": "markdown",
   "metadata": {},
   "source": [
    "To calculate slope m:       \n",
    "(mean(x) * mean(y) - mean(x*y))/(mean(x)^2 - mean(x^2))\n",
    "\n",
    "To calculate intercept c :     \n",
    "mean(y) - mean(x) *m"
   ]
  },
  {
   "cell_type": "code",
   "execution_count": 5,
   "metadata": {},
   "outputs": [],
   "source": [
    "# to calculate intercept and slope (coefficient):\n",
    "\n",
    "def slope_intercept(x_val,y_val):\n",
    "    x=np.array(x_val)\n",
    "    y=np.array(y_val)\n",
    "    \n",
    "    m=(((np.mean(x) *np.mean(y)) - np.mean(x*y))/\n",
    "      ((np.mean(x)*np.mean(x)) - np.mean(x*x)))\n",
    "    m=round(m,2)\n",
    "    \n",
    "    b=(np.mean(y) - np.mean(x) *m)\n",
    "    b=round(b,2)\n",
    "    return m,b"
   ]
  },
  {
   "cell_type": "code",
   "execution_count": 6,
   "metadata": {},
   "outputs": [
    {
     "data": {
      "text/plain": [
       "(3.26, 0.91)"
      ]
     },
     "execution_count": 6,
     "metadata": {},
     "output_type": "execute_result"
    }
   ],
   "source": [
    "slope_intercept(xs,ys)"
   ]
  },
  {
   "cell_type": "code",
   "execution_count": 7,
   "metadata": {},
   "outputs": [],
   "source": [
    "m,b=slope_intercept(xs,ys)"
   ]
  },
  {
   "cell_type": "code",
   "execution_count": 8,
   "metadata": {},
   "outputs": [],
   "source": [
    "# reg_line is the equation of the regression line\n",
    "reg_line=[(m*x) +b for x in xs]"
   ]
  },
  {
   "cell_type": "code",
   "execution_count": 9,
   "metadata": {
    "collapsed": true
   },
   "outputs": [
    {
     "data": {
      "text/plain": [
       "[7.43,\n",
       " 10.69,\n",
       " 13.95,\n",
       " 17.209999999999997,\n",
       " 20.47,\n",
       " 23.73,\n",
       " 26.99,\n",
       " 30.249999999999996,\n",
       " 33.50999999999999,\n",
       " 36.769999999999996,\n",
       " 40.029999999999994,\n",
       " 43.28999999999999,\n",
       " 46.55,\n",
       " 49.809999999999995,\n",
       " 53.06999999999999,\n",
       " 56.32999999999999,\n",
       " 59.58999999999999,\n",
       " 62.849999999999994,\n",
       " 66.10999999999999,\n",
       " 69.36999999999999,\n",
       " 72.63,\n",
       " 75.88999999999999,\n",
       " 79.14999999999999,\n",
       " 82.41]"
      ]
     },
     "execution_count": 9,
     "metadata": {},
     "output_type": "execute_result"
    }
   ],
   "source": [
    "reg_line"
   ]
  },
  {
   "cell_type": "code",
   "execution_count": 10,
   "metadata": {},
   "outputs": [
    {
     "data": {
      "image/png": "[encoded data removed]",
      "text/plain": [
       "<Figure size 432x288 with 1 Axes>"
      ]
     },
     "metadata": {},
     "output_type": "display_data"
    }
   ],
   "source": [
    "# let's plot a regression  line on  xs and  ys:\n",
    "plt.scatter(xs,ys,color='red')\n",
    "plt.plot(xs,reg_line)\n",
    "plt.ylabel('dependent variable')\n",
    "plt.xlabel('independent variable')\n",
    "plt.title('With a regression line')\n",
    "plt.show()"
   ]
  },
  {
   "cell_type": "code",
   "execution_count": null,
   "metadata": {},
   "outputs": [],
   "source": []
  }
 ],
 "metadata": {
  "kernelspec": {
   "display_name": "Python 3",
   "language": "python",
   "name": "python3"
  },
  "language_info": {
   "codemirror_mode": {
    "name": "ipython",
    "version": 3
   },
   "file_extension": ".py",
   "mimetype": "text/x-python",
   "name": "python",
   "nbconvert_exporter": "python",
   "pygments_lexer": "ipython3",
   "version": "3.6.4"
  }
 },
 "nbformat": 4,
 "nbformat_minor": 2
}
