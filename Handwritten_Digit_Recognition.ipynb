{
 "cells": [
  {
   "cell_type": "markdown",
   "metadata": {},
   "source": [
    "# Loading the MNIST dataset in Keras"
   ]
  },
  {
   "cell_type": "markdown",
   "metadata": {},
   "source": [
    "The dataset is downloaded automatically the first time this function is called and is stored in your home directory in ~/.keras/datasets/mnist.pkl.gz as a 15MB file.\n",
    "\n",
    "To demonstrate how easy it is to load the MNIST dataset, we will first write a little script to download and visualize the first 4 images in the training dataset."
   ]
  },
  {
   "cell_type": "code",
   "execution_count": 3,
   "metadata": {},
   "outputs": [
    {
     "name": "stdout",
     "output_type": "stream",
     "text": [
      "(60000, 28, 28)\n"
     ]
    },
    {
     "data": {
      "image/png": "[encoded data removed]",
      "text/plain": [
       "<Figure size 432x288 with 4 Axes>"
      ]
     },
     "metadata": {},
     "output_type": "display_data"
    }
   ],
   "source": [
    "# Plot ad hoc mnist instances\n",
    "from keras.datasets import mnist\n",
    "import matplotlib.pyplot as plt\n",
    "# load dataset\n",
    "(X_train,y_train),(X_test, y_test)=mnist.load_data()\n",
    "print(X_train.shape)\n",
    "#print(X_train[1])\n",
    "# plot 4 images as gray scale\n",
    "plt.show()\n",
    "plt.subplot(221)\n",
    "plt.imshow(X_train[0],cmap=plt.get_cmap('gray'))\n",
    "plt.subplot(222)\n",
    "plt.imshow(X_train[1],cmap=plt.get_cmap('gray'))\n",
    "plt.subplot(223)\n",
    "plt.imshow(X_train[2],cmap=plt.get_cmap('gray'))\n",
    "plt.subplot(224)\n",
    "plt.imshow(X_train[3],cmap=plt.get_cmap('gray'))\n",
    "# show the plot\n",
    "plt.show()"
   ]
  },
  {
   "cell_type": "markdown",
   "metadata": {},
   "source": [
    "# Baseline Model with Multi-Layer Perceptron"
   ]
  },
  {
   "cell_type": "code",
   "execution_count": 12,
   "metadata": {},
   "outputs": [
    {
     "name": "stdout",
     "output_type": "stream",
     "text": [
      "(60000, 28, 28)\n",
      "Train on 60000 samples, validate on 10000 samples\n",
      "Epoch 1/10\n",
      " - 6s - loss: 0.0464 - acc: 0.9844 - val_loss: 0.0244 - val_acc: 0.9919\n",
      "Epoch 2/10\n",
      " - 5s - loss: 0.0197 - acc: 0.9937 - val_loss: 0.0167 - val_acc: 0.9942\n",
      "Epoch 3/10\n",
      " - 5s - loss: 0.0130 - acc: 0.9959 - val_loss: 0.0137 - val_acc: 0.9956\n",
      "Epoch 4/10\n",
      " - 5s - loss: 0.0092 - acc: 0.9972 - val_loss: 0.0130 - val_acc: 0.9956\n",
      "Epoch 5/10\n",
      " - 7s - loss: 0.0070 - acc: 0.9979 - val_loss: 0.0122 - val_acc: 0.9960\n",
      "Epoch 6/10\n",
      " - 6s - loss: 0.0051 - acc: 0.9985 - val_loss: 0.0113 - val_acc: 0.9961\n",
      "Epoch 7/10\n",
      " - 6s - loss: 0.0040 - acc: 0.9989 - val_loss: 0.0112 - val_acc: 0.9964\n",
      "Epoch 8/10\n",
      " - 6s - loss: 0.0028 - acc: 0.9993 - val_loss: 0.0112 - val_acc: 0.9962\n",
      "Epoch 9/10\n",
      " - 6s - loss: 0.0022 - acc: 0.9995 - val_loss: 0.0105 - val_acc: 0.9963\n",
      "Epoch 10/10\n",
      " - 5s - loss: 0.0016 - acc: 0.9997 - val_loss: 0.0110 - val_acc: 0.9962\n",
      "Baseline Error: 0.38%\n"
     ]
    }
   ],
   "source": [
    "# Baseline model\n",
    "import numpy\n",
    "from keras.datasets import mnist\n",
    "from keras.models import Sequential\n",
    "from keras.layers import Dense\n",
    "from keras.layers import Dropout\n",
    "from keras.utils import np_utils\n",
    "# fix random seed for reproducibility\n",
    "seed=7\n",
    "numpy.random.seed(seed)\n",
    "# load data\n",
    "(X_train,y_train),(X_test, y_test)=mnist.load_data()\n",
    "print(X_train.shape)\n",
    "# The training dataset is structured as a 3-dimensional array of instance, \n",
    "# image width and image height. For a multi-layer perceptron model we must \n",
    "# reduce the images down into a vector of pixels. \n",
    "# In this case the 28×28 sized images will be 784 pixel input values.\n",
    "\n",
    "# We can do this transform easily using the reshape() function on the NumPy array. \n",
    "# We can also reduce our memory requirements by forcing the precision of the pixel values to be 32 bit,\n",
    "# the default precision used by Keras anyway.\n",
    "\n",
    "# flatten 28*28 images to a 784 vector for each image\n",
    "num_pixels=X_train.shape[1] * X_train.shape[2]\n",
    "X_train=X_train.reshape(X_train.shape[0],num_pixels).astype('float32')\n",
    "X_test=X_test.reshape(X_test.shape[0],num_pixels).astype('float32')\n",
    "\n",
    "# The pixel values are gray scale between 0 and 255. It is almost always \n",
    "# a good idea to perform some scaling of input values when using neural network models. \n",
    "# Because the scale is well known and well behaved, we can very quickly normalize the pixel values \n",
    "# to the range 0 and 1 by dividing each value by the maximum of 255.\n",
    "\n",
    "# normalize inputs from 0-255 to 0-1\n",
    "X_train=X_train / 255\n",
    "X_test= X_test /255\n",
    "\n",
    "# Finally, the output variable is an integer from 0 to 9. \n",
    "# This is a multi-class classification problem. As such, \n",
    "# it is good practice to use a one hot encoding of the class values, \n",
    "# transforming the vector of class integers into a binary matrix.\n",
    "\n",
    "# one-hot encoded outputs\n",
    "y_train=np_utils.to_categorical(y_train)\n",
    "y_test=np_utils.to_categorical(y_test)\n",
    "num_classes=y_test.shape[1]\n",
    "\n",
    "# define a baseline model\n",
    "def baseline_model():\n",
    "        # create model\n",
    "        model=Sequential()\n",
    "        model.add(Dense(num_pixels, input_dim=num_pixels, kernel_initializer='normal', activation='relu'))\n",
    "        model.add(Dense(num_classes, kernel_initializer='normal', activation='softmax'))\n",
    "        # compile model\n",
    "        model.compile(loss='categorical_crossentropy', optimizer='adam', metrics=['accuracy'])\n",
    "        return model\n",
    "    \n",
    "# A softmax activation function is used on the output layer to turn the outputs into probability-like values and \n",
    "# allow one class of the 10 to be selected as the model’s output prediction.\n",
    "\n",
    "# build the model\n",
    "model=baseline_model()\n",
    "model.fit(X_train,y_train, validation_data=(X_test,y_test),epochs=10, batch_size=200, verbose=2)\n",
    "# final evaluation of the model\n",
    "scores=model.evaluate(X_test,y_test,verbose=0)\n",
    "print(\"Baseline Error: %.2f%%\" %(100-scores[1]*100))"
   ]
  },
  {
   "cell_type": "markdown",
   "metadata": {},
   "source": [
    "# Simple Convolutional Neural Network for MNIST"
   ]
  },
  {
   "cell_type": "markdown",
   "metadata": {},
   "source": [
    "In this section we will create a simple CNN for MNIST that demonstrates how to use all of the aspects of a modern CNN implementation, including Convolutional layers, Pooling layers and Dropout layers."
   ]
  },
  {
   "cell_type": "code",
   "execution_count": 14,
   "metadata": {
    "collapsed": true
   },
   "outputs": [
    {
     "name": "stdout",
     "output_type": "stream",
     "text": [
      "(60000, 1, 28, 28)\n",
      "Train on 60000 samples, validate on 10000 samples\n",
      "Epoch 1/10\n",
      " - 191s - loss: 0.2253 - acc: 0.9357 - val_loss: 0.0802 - val_acc: 0.9749\n",
      "Epoch 2/10\n",
      " - 187s - loss: 0.0725 - acc: 0.9782 - val_loss: 0.0451 - val_acc: 0.9845\n",
      "Epoch 3/10\n"
     ]
    },
    {
     "ename": "KeyboardInterrupt",
     "evalue": "",
     "output_type": "error",
     "traceback": [
      "\u001b[0;31m---------------------------------------------------------------------------\u001b[0m",
      "\u001b[0;31mKeyboardInterrupt\u001b[0m                         Traceback (most recent call last)",
      "\u001b[0;32m<ipython-input-14-29b7bb371962>\u001b[0m in \u001b[0;36m<module>\u001b[0;34m()\u001b[0m\n\u001b[1;32m     57\u001b[0m \u001b[0mmodel\u001b[0m\u001b[0;34m=\u001b[0m\u001b[0mbaseline_model\u001b[0m\u001b[0;34m(\u001b[0m\u001b[0;34m)\u001b[0m\u001b[0;34m\u001b[0m\u001b[0m\n\u001b[1;32m     58\u001b[0m \u001b[0;31m# fit the model\u001b[0m\u001b[0;34m\u001b[0m\u001b[0;34m\u001b[0m\u001b[0m\n\u001b[0;32m---> 59\u001b[0;31m \u001b[0mmodel\u001b[0m\u001b[0;34m.\u001b[0m\u001b[0mfit\u001b[0m\u001b[0;34m(\u001b[0m\u001b[0mX_train\u001b[0m\u001b[0;34m,\u001b[0m\u001b[0my_train\u001b[0m\u001b[0;34m,\u001b[0m\u001b[0mvalidation_data\u001b[0m\u001b[0;34m=\u001b[0m\u001b[0;34m(\u001b[0m\u001b[0mX_test\u001b[0m\u001b[0;34m,\u001b[0m\u001b[0my_test\u001b[0m\u001b[0;34m)\u001b[0m\u001b[0;34m,\u001b[0m\u001b[0mepochs\u001b[0m\u001b[0;34m=\u001b[0m\u001b[0;36m10\u001b[0m\u001b[0;34m,\u001b[0m\u001b[0mbatch_size\u001b[0m\u001b[0;34m=\u001b[0m\u001b[0;36m200\u001b[0m\u001b[0;34m,\u001b[0m\u001b[0mverbose\u001b[0m\u001b[0;34m=\u001b[0m\u001b[0;36m2\u001b[0m\u001b[0;34m)\u001b[0m\u001b[0;34m\u001b[0m\u001b[0m\n\u001b[0m\u001b[1;32m     60\u001b[0m \u001b[0;31m# final evaluation of the model\u001b[0m\u001b[0;34m\u001b[0m\u001b[0;34m\u001b[0m\u001b[0m\n\u001b[1;32m     61\u001b[0m \u001b[0mscores\u001b[0m\u001b[0;34m=\u001b[0m\u001b[0mmodel\u001b[0m\u001b[0;34m.\u001b[0m\u001b[0mevaluate\u001b[0m\u001b[0;34m(\u001b[0m\u001b[0mX_test\u001b[0m\u001b[0;34m,\u001b[0m\u001b[0my_test\u001b[0m\u001b[0;34m,\u001b[0m\u001b[0mverbose\u001b[0m\u001b[0;34m=\u001b[0m\u001b[0;36m0\u001b[0m\u001b[0;34m)\u001b[0m\u001b[0;34m\u001b[0m\u001b[0m\n",
      "\u001b[0;32m~/anaconda3/envs/myenv/lib/python3.6/site-packages/keras/engine/training.py\u001b[0m in \u001b[0;36mfit\u001b[0;34m(self, x, y, batch_size, epochs, verbose, callbacks, validation_split, validation_data, shuffle, class_weight, sample_weight, initial_epoch, steps_per_epoch, validation_steps, **kwargs)\u001b[0m\n\u001b[1;32m   1037\u001b[0m                                         \u001b[0minitial_epoch\u001b[0m\u001b[0;34m=\u001b[0m\u001b[0minitial_epoch\u001b[0m\u001b[0;34m,\u001b[0m\u001b[0;34m\u001b[0m\u001b[0m\n\u001b[1;32m   1038\u001b[0m                                         \u001b[0msteps_per_epoch\u001b[0m\u001b[0;34m=\u001b[0m\u001b[0msteps_per_epoch\u001b[0m\u001b[0;34m,\u001b[0m\u001b[0;34m\u001b[0m\u001b[0m\n\u001b[0;32m-> 1039\u001b[0;31m                                         validation_steps=validation_steps)\n\u001b[0m\u001b[1;32m   1040\u001b[0m \u001b[0;34m\u001b[0m\u001b[0m\n\u001b[1;32m   1041\u001b[0m     def evaluate(self, x=None, y=None,\n",
      "\u001b[0;32m~/anaconda3/envs/myenv/lib/python3.6/site-packages/keras/engine/training_arrays.py\u001b[0m in \u001b[0;36mfit_loop\u001b[0;34m(model, f, ins, out_labels, batch_size, epochs, verbose, callbacks, val_f, val_ins, shuffle, callback_metrics, initial_epoch, steps_per_epoch, validation_steps)\u001b[0m\n\u001b[1;32m    197\u001b[0m                     \u001b[0mins_batch\u001b[0m\u001b[0;34m[\u001b[0m\u001b[0mi\u001b[0m\u001b[0;34m]\u001b[0m \u001b[0;34m=\u001b[0m \u001b[0mins_batch\u001b[0m\u001b[0;34m[\u001b[0m\u001b[0mi\u001b[0m\u001b[0;34m]\u001b[0m\u001b[0;34m.\u001b[0m\u001b[0mtoarray\u001b[0m\u001b[0;34m(\u001b[0m\u001b[0;34m)\u001b[0m\u001b[0;34m\u001b[0m\u001b[0m\n\u001b[1;32m    198\u001b[0m \u001b[0;34m\u001b[0m\u001b[0m\n\u001b[0;32m--> 199\u001b[0;31m                 \u001b[0mouts\u001b[0m \u001b[0;34m=\u001b[0m \u001b[0mf\u001b[0m\u001b[0;34m(\u001b[0m\u001b[0mins_batch\u001b[0m\u001b[0;34m)\u001b[0m\u001b[0;34m\u001b[0m\u001b[0m\n\u001b[0m\u001b[1;32m    200\u001b[0m                 \u001b[0mouts\u001b[0m \u001b[0;34m=\u001b[0m \u001b[0mto_list\u001b[0m\u001b[0;34m(\u001b[0m\u001b[0mouts\u001b[0m\u001b[0;34m)\u001b[0m\u001b[0;34m\u001b[0m\u001b[0m\n\u001b[1;32m    201\u001b[0m                 \u001b[0;32mfor\u001b[0m \u001b[0ml\u001b[0m\u001b[0;34m,\u001b[0m \u001b[0mo\u001b[0m \u001b[0;32min\u001b[0m \u001b[0mzip\u001b[0m\u001b[0;34m(\u001b[0m\u001b[0mout_labels\u001b[0m\u001b[0;34m,\u001b[0m \u001b[0mouts\u001b[0m\u001b[0;34m)\u001b[0m\u001b[0;34m:\u001b[0m\u001b[0;34m\u001b[0m\u001b[0m\n",
      "\u001b[0;32m~/anaconda3/envs/myenv/lib/python3.6/site-packages/keras/backend/tensorflow_backend.py\u001b[0m in \u001b[0;36m__call__\u001b[0;34m(self, inputs)\u001b[0m\n\u001b[1;32m   2713\u001b[0m                 \u001b[0;32mreturn\u001b[0m \u001b[0mself\u001b[0m\u001b[0;34m.\u001b[0m\u001b[0m_legacy_call\u001b[0m\u001b[0;34m(\u001b[0m\u001b[0minputs\u001b[0m\u001b[0;34m)\u001b[0m\u001b[0;34m\u001b[0m\u001b[0m\n\u001b[1;32m   2714\u001b[0m \u001b[0;34m\u001b[0m\u001b[0m\n\u001b[0;32m-> 2715\u001b[0;31m             \u001b[0;32mreturn\u001b[0m \u001b[0mself\u001b[0m\u001b[0;34m.\u001b[0m\u001b[0m_call\u001b[0m\u001b[0;34m(\u001b[0m\u001b[0minputs\u001b[0m\u001b[0;34m)\u001b[0m\u001b[0;34m\u001b[0m\u001b[0m\n\u001b[0m\u001b[1;32m   2716\u001b[0m         \u001b[0;32melse\u001b[0m\u001b[0;34m:\u001b[0m\u001b[0;34m\u001b[0m\u001b[0m\n\u001b[1;32m   2717\u001b[0m             \u001b[0;32mif\u001b[0m \u001b[0mpy_any\u001b[0m\u001b[0;34m(\u001b[0m\u001b[0mis_tensor\u001b[0m\u001b[0;34m(\u001b[0m\u001b[0mx\u001b[0m\u001b[0;34m)\u001b[0m \u001b[0;32mfor\u001b[0m \u001b[0mx\u001b[0m \u001b[0;32min\u001b[0m \u001b[0minputs\u001b[0m\u001b[0;34m)\u001b[0m\u001b[0;34m:\u001b[0m\u001b[0;34m\u001b[0m\u001b[0m\n",
      "\u001b[0;32m~/anaconda3/envs/myenv/lib/python3.6/site-packages/keras/backend/tensorflow_backend.py\u001b[0m in \u001b[0;36m_call\u001b[0;34m(self, inputs)\u001b[0m\n\u001b[1;32m   2673\u001b[0m             \u001b[0mfetched\u001b[0m \u001b[0;34m=\u001b[0m \u001b[0mself\u001b[0m\u001b[0;34m.\u001b[0m\u001b[0m_callable_fn\u001b[0m\u001b[0;34m(\u001b[0m\u001b[0;34m*\u001b[0m\u001b[0marray_vals\u001b[0m\u001b[0;34m,\u001b[0m \u001b[0mrun_metadata\u001b[0m\u001b[0;34m=\u001b[0m\u001b[0mself\u001b[0m\u001b[0;34m.\u001b[0m\u001b[0mrun_metadata\u001b[0m\u001b[0;34m)\u001b[0m\u001b[0;34m\u001b[0m\u001b[0m\n\u001b[1;32m   2674\u001b[0m         \u001b[0;32melse\u001b[0m\u001b[0;34m:\u001b[0m\u001b[0;34m\u001b[0m\u001b[0m\n\u001b[0;32m-> 2675\u001b[0;31m             \u001b[0mfetched\u001b[0m \u001b[0;34m=\u001b[0m \u001b[0mself\u001b[0m\u001b[0;34m.\u001b[0m\u001b[0m_callable_fn\u001b[0m\u001b[0;34m(\u001b[0m\u001b[0;34m*\u001b[0m\u001b[0marray_vals\u001b[0m\u001b[0;34m)\u001b[0m\u001b[0;34m\u001b[0m\u001b[0m\n\u001b[0m\u001b[1;32m   2676\u001b[0m         \u001b[0;32mreturn\u001b[0m \u001b[0mfetched\u001b[0m\u001b[0;34m[\u001b[0m\u001b[0;34m:\u001b[0m\u001b[0mlen\u001b[0m\u001b[0;34m(\u001b[0m\u001b[0mself\u001b[0m\u001b[0;34m.\u001b[0m\u001b[0moutputs\u001b[0m\u001b[0;34m)\u001b[0m\u001b[0;34m]\u001b[0m\u001b[0;34m\u001b[0m\u001b[0m\n\u001b[1;32m   2677\u001b[0m \u001b[0;34m\u001b[0m\u001b[0m\n",
      "\u001b[0;32m~/anaconda3/envs/myenv/lib/python3.6/site-packages/tensorflow/python/client/session.py\u001b[0m in \u001b[0;36m__call__\u001b[0;34m(self, *args)\u001b[0m\n\u001b[1;32m   1449\u001b[0m         \u001b[0;32mif\u001b[0m \u001b[0mself\u001b[0m\u001b[0;34m.\u001b[0m\u001b[0m_session\u001b[0m\u001b[0;34m.\u001b[0m\u001b[0m_created_with_new_api\u001b[0m\u001b[0;34m:\u001b[0m\u001b[0;34m\u001b[0m\u001b[0m\n\u001b[1;32m   1450\u001b[0m           return tf_session.TF_SessionRunCallable(\n\u001b[0;32m-> 1451\u001b[0;31m               self._session._session, self._handle, args, status, None)\n\u001b[0m\u001b[1;32m   1452\u001b[0m         \u001b[0;32melse\u001b[0m\u001b[0;34m:\u001b[0m\u001b[0;34m\u001b[0m\u001b[0m\n\u001b[1;32m   1453\u001b[0m           return tf_session.TF_DeprecatedSessionRunCallable(\n",
      "\u001b[0;31mKeyboardInterrupt\u001b[0m: "
     ]
    }
   ],
   "source": [
    "# Simple CNN model\n",
    "import numpy\n",
    "from keras.datasets import mnist\n",
    "from keras.models import Sequential\n",
    "from keras.layers import Dense\n",
    "from keras.layers import Dropout\n",
    "from keras.layers import Flatten\n",
    "from keras.layers.convolutional import Conv2D\n",
    "from keras.layers.convolutional import MaxPooling2D\n",
    "from keras.utils import np_utils\n",
    "from keras import backend as K\n",
    "K.set_image_dim_ordering('th')\n",
    "# fix random seed for reproducibility\n",
    "seed=7\n",
    "numpy.random.seed(seed)\n",
    "\n",
    "# We need to load the MNIST dataset and reshape it so that it is suitable for use training a CNN. \n",
    "# In Keras, the layers used for two-dimensional convolutions expect pixel values \n",
    "# with the dimensions [pixels][width][height].\n",
    "\n",
    "# In the case of RGB, the first dimension pixels would be 3 for the red, green and blue components \n",
    "# and it would be like having 3 image inputs for every color image. \n",
    "# In the case of MNIST where the pixel values are gray scale, the pixel dimension is set to 1.\n",
    "\n",
    "# load data\n",
    "(X_train,y_train),(X_test, y_test)=mnist.load_data()\n",
    "# reshape to be [samples][pixels][width][height]\n",
    "X_train=X_train.reshape(X_train.shape[0],1,28,28).astype('float32')\n",
    "X_test=X_test.reshape(X_test.shape[0],1,28,28).astype('float32')\n",
    "print(X_train.shape)\n",
    "\n",
    "# normalize inputs from 0-255 to 0-1\n",
    "X_train=X_train / 255\n",
    "X_test= X_test /255\n",
    "# one hot encode outputs\n",
    "y_train=np_utils.to_categorical(y_train)\n",
    "y_test=np_utils.to_categorical(y_test)\n",
    "num_classes=y_test.shape[1]\n",
    "\n",
    "# define a simple cnn model\n",
    "def baseline_model():\n",
    "    # create model\n",
    "    model=Sequential()\n",
    "    model.add(Conv2D(32,(5,5), input_shape=(1,28,28),activation='relu')) # first hidden layer with \n",
    "                                                                        # 32 feature maps with size 5*5\n",
    "    model.add(MaxPooling2D(pool_size=(2,2))) # pooling layer with a pool size of 2*2\n",
    "    model.add(Dropout(0.2))   # regularization layer with randomly exclude 20%\n",
    "    model.add(Flatten())   # a layer that converts the 2D matrix data to a vector called Flatten. \n",
    "                          #It allows the output to be processed by standard fully connected layers.\n",
    "    model.add(Dense(128,activation='relu')) # a fully connected layer with 128 neurons\n",
    "    model.add(Dense(num_classes,activation='softmax')) # the output layer has 10 neurons for the 10 classes\n",
    "    # compile model\n",
    "    model.compile(loss='categorical_crossentropy', optimizer='adam', metrics=['accuracy'])\n",
    "    return model\n",
    "\n",
    "# build the model\n",
    "model=baseline_model()\n",
    "# fit the model\n",
    "model.fit(X_train,y_train,validation_data=(X_test,y_test),epochs=10,batch_size=200,verbose=2)\n",
    "# final evaluation of the model\n",
    "scores=model.evaluate(X_test,y_test,verbose=0)\n",
    "print(\"CNN Error: %.2f%%\" %(100-scores[1]*100))    "
   ]
  },
  {
   "cell_type": "markdown",
   "metadata": {},
   "source": [
    "# Larger Convolutional Neural Network for MNIST"
   ]
  },
  {
   "cell_type": "code",
   "execution_count": null,
   "metadata": {},
   "outputs": [],
   "source": [
    "# Larger CNN for the MNIST Dataset\n",
    "import numpy\n",
    "from keras.datasets import mnist\n",
    "from keras.models import Sequential\n",
    "from keras.layers import Dense\n",
    "from keras.layers import Dropout\n",
    "from keras.layers import Flatten\n",
    "from keras.layers.convolutional import Conv2D\n",
    "from keras.layers.convolutional import MaxPooling2D\n",
    "from keras.utils import np_utils\n",
    "from keras import backend as K\n",
    "K.set_image_dim_ordering('th')\n",
    "# fix random seed for reproducibility\n",
    "seed = 7\n",
    "numpy.random.seed(seed)\n",
    "# load data\n",
    "(X_train, y_train), (X_test, y_test) = mnist.load_data()\n",
    "# reshape to be [samples][pixels][width][height]\n",
    "X_train = X_train.reshape(X_train.shape[0], 1, 28, 28).astype('float32')\n",
    "X_test = X_test.reshape(X_test.shape[0], 1, 28, 28).astype('float32')\n",
    "# normalize inputs from 0-255 to 0-1\n",
    "X_train = X_train / 255\n",
    "X_test = X_test / 255\n",
    "# one hot encode outputs\n",
    "y_train = np_utils.to_categorical(y_train)\n",
    "y_test = np_utils.to_categorical(y_test)\n",
    "num_classes = y_test.shape[1]\n",
    "\n",
    "# define the larger CNN model\n",
    "def larger_model():\n",
    "    # create model\n",
    "    model=Sequential()\n",
    "    model.add(Conv2D(30,(5,5), input_shape=(1,28,28),activation='relu')) # first hidden layer with \n",
    "                                                                        # 30 feature maps with size 5*5\n",
    "    model.add(MaxPooling2D(pool_size=(2,2))) # pooling layer with a pool size of 2*2\n",
    "    model.add(Conv2D(15,(3,3), input_shape=(1,28,28),activation='relu')) # hidden layer with \n",
    "                                                                        # 15 feature maps with size 3*3\n",
    "    model.add(MaxPooling2D(pool_size=(2,2))) # pooling layer with a pool size of 2*2    \n",
    "    model.add(Dropout(0.2))   # regularization layer with randomly exclude 20%\n",
    "    model.add(Flatten())   # a layer that converts the 2D matrix data to a vector called Flatten. \n",
    "                          #It allows the output to be processed by standard fully connected layers.\n",
    "    model.add(Dense(128,activation='relu')) # a fully connected layer with 128 neurons\n",
    "    model.add(Dense(50,activation='relu')) # a fully connected layer with 50 neurons\n",
    "    model.add(Dense(num_classes,activation='softmax')) # the output layer has 10 neurons for the 10 classes\n",
    "    # compile model\n",
    "    model.compile(loss='categorical_crossentropy', optimizer='adam', metrics=['accuracy'])\n",
    "    return model    \n",
    "\n",
    "# build the model\n",
    "model=larger_model()\n",
    "# fit the model\n",
    "model.fit(X_train,y_train,validation_data=(X_test,y_test),epochs=10,batch_size=200,verbose=2)\n",
    "# final evaluation of the model\n",
    "scores=model.evaluate(X_test,y_test,verbose=0)\n",
    "print(\"Larger CNN Error: %.2f%%\" %(100-scores[1]*100))   "
   ]
  }
 ],
 "metadata": {
  "kernelspec": {
   "display_name": "Python 3",
   "language": "python",
   "name": "python3"
  },
  "language_info": {
   "codemirror_mode": {
    "name": "ipython",
    "version": 3
   },
   "file_extension": ".py",
   "mimetype": "text/x-python",
   "name": "python",
   "nbconvert_exporter": "python",
   "pygments_lexer": "ipython3",
   "version": "3.6.4"
  }
 },
 "nbformat": 4,
 "nbformat_minor": 2
}
